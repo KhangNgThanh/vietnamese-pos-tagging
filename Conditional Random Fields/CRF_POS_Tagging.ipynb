{
  "nbformat": 4,
  "nbformat_minor": 0,
  "metadata": {
    "kernelspec": {
      "display_name": "Python 3",
      "language": "python",
      "name": "python3"
    },
    "language_info": {
      "codemirror_mode": {
        "name": "ipython",
        "version": 3
      },
      "file_extension": ".py",
      "mimetype": "text/x-python",
      "name": "python",
      "nbconvert_exporter": "python",
      "pygments_lexer": "ipython3",
      "version": "3.5.5"
    },
    "colab": {
      "name": "CRF POS Tagging.ipynb",
      "provenance": [],
      "include_colab_link": true
    }
  },
  "cells": [
    {
      "cell_type": "markdown",
      "metadata": {
        "id": "view-in-github",
        "colab_type": "text"
      },
      "source": [
        "<a href=\"https://colab.research.google.com/github/nthanhkhang/vietnamese-pos-tagging/blob/main/CRF_POS_Tagging.ipynb\" target=\"_parent\"><img src=\"https://colab.research.google.com/assets/colab-badge.svg\" alt=\"Open In Colab\"/></a>"
      ]
    },
    {
      "cell_type": "code",
      "metadata": {
        "colab": {
          "base_uri": "https://localhost:8080/"
        },
        "id": "5tpbam7-HwsJ",
        "outputId": "6283c049-b08d-48ab-97ce-4241a72cb992"
      },
      "source": [
        "!pip install sklearn-crfsuite\n",
        "import nltk, re, pprint\n",
        "import numpy as np\n",
        "import pandas as pd\n",
        "import requests\n",
        "import matplotlib.pyplot as plt\n",
        "import seaborn as sns\n",
        "import pprint, time\n",
        "import random\n",
        "from sklearn.model_selection import train_test_split\n",
        "from nltk.tokenize import word_tokenize\n",
        "from sklearn_crfsuite import CRF\n",
        "from sklearn_crfsuite import metrics\n",
        "from sklearn_crfsuite import scorers\n",
        "from collections import Counter\n",
        "nltk.download('treebank')"
      ],
      "execution_count": null,
      "outputs": [
        {
          "output_type": "stream",
          "text": [
            "Requirement already satisfied: sklearn-crfsuite in /usr/local/lib/python3.7/dist-packages (0.3.6)\n",
            "Requirement already satisfied: six in /usr/local/lib/python3.7/dist-packages (from sklearn-crfsuite) (1.15.0)\n",
            "Requirement already satisfied: python-crfsuite>=0.8.3 in /usr/local/lib/python3.7/dist-packages (from sklearn-crfsuite) (0.9.7)\n",
            "Requirement already satisfied: tqdm>=2.0 in /usr/local/lib/python3.7/dist-packages (from sklearn-crfsuite) (4.41.1)\n",
            "Requirement already satisfied: tabulate in /usr/local/lib/python3.7/dist-packages (from sklearn-crfsuite) (0.8.9)\n",
            "[nltk_data] Downloading package treebank to /root/nltk_data...\n",
            "[nltk_data]   Package treebank is already up-to-date!\n"
          ],
          "name": "stdout"
        },
        {
          "output_type": "execute_result",
          "data": {
            "text/plain": [
              "True"
            ]
          },
          "metadata": {
            "tags": []
          },
          "execution_count": 14
        }
      ]
    },
    {
      "cell_type": "markdown",
      "metadata": {
        "id": "ch0Zy5G1HwsM"
      },
      "source": [
        "**Introduction**\n",
        "\n",
        "In this work, we will use CRF Classifier for POS Tagging. The dataset we will use in the PennTree Bank Corpus, with the universal Tag Set. This tag set has 12 unique POS Tags\n"
      ]
    },
    {
      "cell_type": "code",
      "metadata": {
        "id": "35s5QsUCHwsN"
      },
      "source": [
        "tagged_sentence = nltk.corpus.treebank.tagged_sents(tagset='universal')"
      ],
      "execution_count": null,
      "outputs": []
    },
    {
      "cell_type": "code",
      "metadata": {
        "colab": {
          "base_uri": "https://localhost:8080/"
        },
        "id": "AabK_rp0HwsO",
        "outputId": "36e9d396-9304-4d7b-c4e2-35d04d976229"
      },
      "source": [
        "print(\"Number of Tagged Sentences \",len(tagged_sentence))\n",
        "tagged_words=[tup for sent in tagged_sentence for tup in sent]\n",
        "print(\"Total Number of Tagged words\", len(tagged_words))\n",
        "vocab=set([word for word,tag in tagged_words])\n",
        "print(\"Vocabulary of the Corpus\",len(vocab))\n",
        "tags=set([tag for word,tag in tagged_words])\n",
        "print(\"Number of Tags in the Corpus \",len(tags))"
      ],
      "execution_count": null,
      "outputs": [
        {
          "output_type": "stream",
          "text": [
            "Number of Tagged Sentences  3914\n",
            "Total Number of Tagged words 100676\n",
            "Vocabulary of the Corpus 12408\n",
            "Number of Tags in the Corpus  12\n"
          ],
          "name": "stdout"
        }
      ]
    },
    {
      "cell_type": "markdown",
      "metadata": {
        "id": "zwcQOHxXHwsQ"
      },
      "source": [
        "#### Splitting Data into train and test set - 80-20 split"
      ]
    },
    {
      "cell_type": "code",
      "metadata": {
        "colab": {
          "base_uri": "https://localhost:8080/"
        },
        "id": "M-kQ2z9WHwsR",
        "outputId": "736f8cb8-b187-4a94-aadb-002b5d171f30"
      },
      "source": [
        "train_set, test_set = train_test_split(tagged_sentence,test_size=0.2,random_state=1234)\n",
        "print(\"Number of Sentences in Training Data \",len(train_set))\n",
        "print(\"Number of Sentences in Testing Data \",len(test_set))"
      ],
      "execution_count": null,
      "outputs": [
        {
          "output_type": "stream",
          "text": [
            "Number of Sentences in Training Data  3131\n",
            "Number of Sentences in Testing Data  783\n"
          ],
          "name": "stdout"
        }
      ]
    },
    {
      "cell_type": "markdown",
      "metadata": {
        "id": "YqQOBPP4HwsS"
      },
      "source": [
        "### Define the feature function. The following features can be used \n",
        "1. Is the first letter capitalised.\n",
        "2. Is it the first word in the sentence?\n",
        "3. Is it the last word?\n",
        "4. What is the prefix of the word?\n",
        "5. What is the suffix of the word?\n",
        "6. Is the complete word captilised?\n",
        "7. What is the previous word?\n",
        "8. What is the next word?\n",
        "9. Is it numeric?\n",
        "10. Is it alphanumeric?\n",
        "11. Is there an hyphen in the word?"
      ]
    },
    {
      "cell_type": "code",
      "metadata": {
        "id": "So0a7jMzHwsS"
      },
      "source": [
        "def features(sentence,index):\n",
        "    ### sentence is of the form [w1,w2,w3,..], index is the position of the word in the sentence\n",
        "    return {\n",
        "        'is_first_capital':int(sentence[index][0].isupper()),\n",
        "        'is_first_word': int(index==0),\n",
        "        'is_last_word':int(index==len(sentence)-1),\n",
        "        'is_complete_capital': int(sentence[index].upper()==sentence[index]),\n",
        "        'prev_word':'' if index==0 else sentence[index-1],\n",
        "        'next_word':'' if index==len(sentence)-1 else sentence[index+1],\n",
        "        'is_numeric':int(sentence[index].isdigit()),\n",
        "        'is_alphanumeric': int(bool((re.match('^(?=.*[0-9]$)(?=.*[a-zA-Z])',sentence[index])))),\n",
        "        'prefix_1':sentence[index][0],\n",
        "        'prefix_2': sentence[index][:2],\n",
        "        'prefix_3':sentence[index][:3],\n",
        "        'prefix_4':sentence[index][:4],\n",
        "        'suffix_1':sentence[index][-1],\n",
        "        'suffix_2':sentence[index][-2:],\n",
        "        'suffix_3':sentence[index][-3:],\n",
        "        'suffix_4':sentence[index][-4:],\n",
        "        'word_has_hyphen': 1 if '-' in sentence[index] else 0\n",
        "        \n",
        "        \n",
        "    }"
      ],
      "execution_count": null,
      "outputs": []
    },
    {
      "cell_type": "markdown",
      "metadata": {
        "id": "DcCQWtLZHwsT"
      },
      "source": [
        "#### Need to seperate labels and the sentences in both training and test data"
      ]
    },
    {
      "cell_type": "code",
      "metadata": {
        "id": "pCdTMkPEHwsT"
      },
      "source": [
        "def untag(sentence):\n",
        "    return [word for word,tag in sentence]\n",
        "\n",
        "\n",
        "def prepareData(tagged_sentences):\n",
        "    X,y=[],[]\n",
        "    for sentences in tagged_sentences:\n",
        "        X.append([features(untag(sentences), index) for index in range(len(sentences))])\n",
        "        y.append([tag for word,tag in sentences])\n",
        "    return X,y"
      ],
      "execution_count": null,
      "outputs": []
    },
    {
      "cell_type": "code",
      "metadata": {
        "id": "3GHG1uLRHwsU"
      },
      "source": [
        "X_train,y_train=prepareData(train_set)\n",
        "X_test,y_test=prepareData(test_set)\n"
      ],
      "execution_count": null,
      "outputs": []
    },
    {
      "cell_type": "code",
      "metadata": {
        "colab": {
          "base_uri": "https://localhost:8080/"
        },
        "id": "DAVabwg_HwsU",
        "outputId": "6fbcaf7a-1a00-47ad-80fb-8d078332ec65"
      },
      "source": [
        "X_train[0]"
      ],
      "execution_count": null,
      "outputs": [
        {
          "output_type": "execute_result",
          "data": {
            "text/plain": [
              "[{'is_alphanumeric': 0,\n",
              "  'is_complete_capital': 0,\n",
              "  'is_first_capital': 1,\n",
              "  'is_first_word': 1,\n",
              "  'is_last_word': 0,\n",
              "  'is_numeric': 0,\n",
              "  'next_word': 'Wall',\n",
              "  'prefix_1': 'O',\n",
              "  'prefix_2': 'On',\n",
              "  'prefix_3': 'On',\n",
              "  'prefix_4': 'On',\n",
              "  'prev_word': '',\n",
              "  'suffix_1': 'n',\n",
              "  'suffix_2': 'On',\n",
              "  'suffix_3': 'On',\n",
              "  'suffix_4': 'On',\n",
              "  'word_has_hyphen': 0},\n",
              " {'is_alphanumeric': 0,\n",
              "  'is_complete_capital': 0,\n",
              "  'is_first_capital': 1,\n",
              "  'is_first_word': 0,\n",
              "  'is_last_word': 0,\n",
              "  'is_numeric': 0,\n",
              "  'next_word': 'Street',\n",
              "  'prefix_1': 'W',\n",
              "  'prefix_2': 'Wa',\n",
              "  'prefix_3': 'Wal',\n",
              "  'prefix_4': 'Wall',\n",
              "  'prev_word': 'On',\n",
              "  'suffix_1': 'l',\n",
              "  'suffix_2': 'll',\n",
              "  'suffix_3': 'all',\n",
              "  'suffix_4': 'Wall',\n",
              "  'word_has_hyphen': 0},\n",
              " {'is_alphanumeric': 0,\n",
              "  'is_complete_capital': 0,\n",
              "  'is_first_capital': 1,\n",
              "  'is_first_word': 0,\n",
              "  'is_last_word': 0,\n",
              "  'is_numeric': 0,\n",
              "  'next_word': 'men',\n",
              "  'prefix_1': 'S',\n",
              "  'prefix_2': 'St',\n",
              "  'prefix_3': 'Str',\n",
              "  'prefix_4': 'Stre',\n",
              "  'prev_word': 'Wall',\n",
              "  'suffix_1': 't',\n",
              "  'suffix_2': 'et',\n",
              "  'suffix_3': 'eet',\n",
              "  'suffix_4': 'reet',\n",
              "  'word_has_hyphen': 0},\n",
              " {'is_alphanumeric': 0,\n",
              "  'is_complete_capital': 0,\n",
              "  'is_first_capital': 0,\n",
              "  'is_first_word': 0,\n",
              "  'is_last_word': 0,\n",
              "  'is_numeric': 0,\n",
              "  'next_word': 'and',\n",
              "  'prefix_1': 'm',\n",
              "  'prefix_2': 'me',\n",
              "  'prefix_3': 'men',\n",
              "  'prefix_4': 'men',\n",
              "  'prev_word': 'Street',\n",
              "  'suffix_1': 'n',\n",
              "  'suffix_2': 'en',\n",
              "  'suffix_3': 'men',\n",
              "  'suffix_4': 'men',\n",
              "  'word_has_hyphen': 0},\n",
              " {'is_alphanumeric': 0,\n",
              "  'is_complete_capital': 0,\n",
              "  'is_first_capital': 0,\n",
              "  'is_first_word': 0,\n",
              "  'is_last_word': 0,\n",
              "  'is_numeric': 0,\n",
              "  'next_word': 'women',\n",
              "  'prefix_1': 'a',\n",
              "  'prefix_2': 'an',\n",
              "  'prefix_3': 'and',\n",
              "  'prefix_4': 'and',\n",
              "  'prev_word': 'men',\n",
              "  'suffix_1': 'd',\n",
              "  'suffix_2': 'nd',\n",
              "  'suffix_3': 'and',\n",
              "  'suffix_4': 'and',\n",
              "  'word_has_hyphen': 0},\n",
              " {'is_alphanumeric': 0,\n",
              "  'is_complete_capital': 0,\n",
              "  'is_first_capital': 0,\n",
              "  'is_first_word': 0,\n",
              "  'is_last_word': 0,\n",
              "  'is_numeric': 0,\n",
              "  'next_word': 'walk',\n",
              "  'prefix_1': 'w',\n",
              "  'prefix_2': 'wo',\n",
              "  'prefix_3': 'wom',\n",
              "  'prefix_4': 'wome',\n",
              "  'prev_word': 'and',\n",
              "  'suffix_1': 'n',\n",
              "  'suffix_2': 'en',\n",
              "  'suffix_3': 'men',\n",
              "  'suffix_4': 'omen',\n",
              "  'word_has_hyphen': 0},\n",
              " {'is_alphanumeric': 0,\n",
              "  'is_complete_capital': 0,\n",
              "  'is_first_capital': 0,\n",
              "  'is_first_word': 0,\n",
              "  'is_last_word': 0,\n",
              "  'is_numeric': 0,\n",
              "  'next_word': 'with',\n",
              "  'prefix_1': 'w',\n",
              "  'prefix_2': 'wa',\n",
              "  'prefix_3': 'wal',\n",
              "  'prefix_4': 'walk',\n",
              "  'prev_word': 'women',\n",
              "  'suffix_1': 'k',\n",
              "  'suffix_2': 'lk',\n",
              "  'suffix_3': 'alk',\n",
              "  'suffix_4': 'walk',\n",
              "  'word_has_hyphen': 0},\n",
              " {'is_alphanumeric': 0,\n",
              "  'is_complete_capital': 0,\n",
              "  'is_first_capital': 0,\n",
              "  'is_first_word': 0,\n",
              "  'is_last_word': 0,\n",
              "  'is_numeric': 0,\n",
              "  'next_word': 'great',\n",
              "  'prefix_1': 'w',\n",
              "  'prefix_2': 'wi',\n",
              "  'prefix_3': 'wit',\n",
              "  'prefix_4': 'with',\n",
              "  'prev_word': 'walk',\n",
              "  'suffix_1': 'h',\n",
              "  'suffix_2': 'th',\n",
              "  'suffix_3': 'ith',\n",
              "  'suffix_4': 'with',\n",
              "  'word_has_hyphen': 0},\n",
              " {'is_alphanumeric': 0,\n",
              "  'is_complete_capital': 0,\n",
              "  'is_first_capital': 0,\n",
              "  'is_first_word': 0,\n",
              "  'is_last_word': 0,\n",
              "  'is_numeric': 0,\n",
              "  'next_word': 'purpose',\n",
              "  'prefix_1': 'g',\n",
              "  'prefix_2': 'gr',\n",
              "  'prefix_3': 'gre',\n",
              "  'prefix_4': 'grea',\n",
              "  'prev_word': 'with',\n",
              "  'suffix_1': 't',\n",
              "  'suffix_2': 'at',\n",
              "  'suffix_3': 'eat',\n",
              "  'suffix_4': 'reat',\n",
              "  'word_has_hyphen': 0},\n",
              " {'is_alphanumeric': 0,\n",
              "  'is_complete_capital': 0,\n",
              "  'is_first_capital': 0,\n",
              "  'is_first_word': 0,\n",
              "  'is_last_word': 0,\n",
              "  'is_numeric': 0,\n",
              "  'next_word': ',',\n",
              "  'prefix_1': 'p',\n",
              "  'prefix_2': 'pu',\n",
              "  'prefix_3': 'pur',\n",
              "  'prefix_4': 'purp',\n",
              "  'prev_word': 'great',\n",
              "  'suffix_1': 'e',\n",
              "  'suffix_2': 'se',\n",
              "  'suffix_3': 'ose',\n",
              "  'suffix_4': 'pose',\n",
              "  'word_has_hyphen': 0},\n",
              " {'is_alphanumeric': 0,\n",
              "  'is_complete_capital': 1,\n",
              "  'is_first_capital': 0,\n",
              "  'is_first_word': 0,\n",
              "  'is_last_word': 0,\n",
              "  'is_numeric': 0,\n",
              "  'next_word': '*-2',\n",
              "  'prefix_1': ',',\n",
              "  'prefix_2': ',',\n",
              "  'prefix_3': ',',\n",
              "  'prefix_4': ',',\n",
              "  'prev_word': 'purpose',\n",
              "  'suffix_1': ',',\n",
              "  'suffix_2': ',',\n",
              "  'suffix_3': ',',\n",
              "  'suffix_4': ',',\n",
              "  'word_has_hyphen': 0},\n",
              " {'is_alphanumeric': 0,\n",
              "  'is_complete_capital': 1,\n",
              "  'is_first_capital': 0,\n",
              "  'is_first_word': 0,\n",
              "  'is_last_word': 0,\n",
              "  'is_numeric': 0,\n",
              "  'next_word': 'noticing',\n",
              "  'prefix_1': '*',\n",
              "  'prefix_2': '*-',\n",
              "  'prefix_3': '*-2',\n",
              "  'prefix_4': '*-2',\n",
              "  'prev_word': ',',\n",
              "  'suffix_1': '2',\n",
              "  'suffix_2': '-2',\n",
              "  'suffix_3': '*-2',\n",
              "  'suffix_4': '*-2',\n",
              "  'word_has_hyphen': 1},\n",
              " {'is_alphanumeric': 0,\n",
              "  'is_complete_capital': 0,\n",
              "  'is_first_capital': 0,\n",
              "  'is_first_word': 0,\n",
              "  'is_last_word': 0,\n",
              "  'is_numeric': 0,\n",
              "  'next_word': 'one',\n",
              "  'prefix_1': 'n',\n",
              "  'prefix_2': 'no',\n",
              "  'prefix_3': 'not',\n",
              "  'prefix_4': 'noti',\n",
              "  'prev_word': '*-2',\n",
              "  'suffix_1': 'g',\n",
              "  'suffix_2': 'ng',\n",
              "  'suffix_3': 'ing',\n",
              "  'suffix_4': 'cing',\n",
              "  'word_has_hyphen': 0},\n",
              " {'is_alphanumeric': 0,\n",
              "  'is_complete_capital': 0,\n",
              "  'is_first_capital': 0,\n",
              "  'is_first_word': 0,\n",
              "  'is_last_word': 0,\n",
              "  'is_numeric': 0,\n",
              "  'next_word': 'another',\n",
              "  'prefix_1': 'o',\n",
              "  'prefix_2': 'on',\n",
              "  'prefix_3': 'one',\n",
              "  'prefix_4': 'one',\n",
              "  'prev_word': 'noticing',\n",
              "  'suffix_1': 'e',\n",
              "  'suffix_2': 'ne',\n",
              "  'suffix_3': 'one',\n",
              "  'suffix_4': 'one',\n",
              "  'word_has_hyphen': 0},\n",
              " {'is_alphanumeric': 0,\n",
              "  'is_complete_capital': 0,\n",
              "  'is_first_capital': 0,\n",
              "  'is_first_word': 0,\n",
              "  'is_last_word': 0,\n",
              "  'is_numeric': 0,\n",
              "  'next_word': 'only',\n",
              "  'prefix_1': 'a',\n",
              "  'prefix_2': 'an',\n",
              "  'prefix_3': 'ano',\n",
              "  'prefix_4': 'anot',\n",
              "  'prev_word': 'one',\n",
              "  'suffix_1': 'r',\n",
              "  'suffix_2': 'er',\n",
              "  'suffix_3': 'her',\n",
              "  'suffix_4': 'ther',\n",
              "  'word_has_hyphen': 0},\n",
              " {'is_alphanumeric': 0,\n",
              "  'is_complete_capital': 0,\n",
              "  'is_first_capital': 0,\n",
              "  'is_first_word': 0,\n",
              "  'is_last_word': 0,\n",
              "  'is_numeric': 0,\n",
              "  'next_word': 'when',\n",
              "  'prefix_1': 'o',\n",
              "  'prefix_2': 'on',\n",
              "  'prefix_3': 'onl',\n",
              "  'prefix_4': 'only',\n",
              "  'prev_word': 'another',\n",
              "  'suffix_1': 'y',\n",
              "  'suffix_2': 'ly',\n",
              "  'suffix_3': 'nly',\n",
              "  'suffix_4': 'only',\n",
              "  'word_has_hyphen': 0},\n",
              " {'is_alphanumeric': 0,\n",
              "  'is_complete_capital': 0,\n",
              "  'is_first_capital': 0,\n",
              "  'is_first_word': 0,\n",
              "  'is_last_word': 0,\n",
              "  'is_numeric': 0,\n",
              "  'next_word': 'they',\n",
              "  'prefix_1': 'w',\n",
              "  'prefix_2': 'wh',\n",
              "  'prefix_3': 'whe',\n",
              "  'prefix_4': 'when',\n",
              "  'prev_word': 'only',\n",
              "  'suffix_1': 'n',\n",
              "  'suffix_2': 'en',\n",
              "  'suffix_3': 'hen',\n",
              "  'suffix_4': 'when',\n",
              "  'word_has_hyphen': 0},\n",
              " {'is_alphanumeric': 0,\n",
              "  'is_complete_capital': 0,\n",
              "  'is_first_capital': 0,\n",
              "  'is_first_word': 0,\n",
              "  'is_last_word': 0,\n",
              "  'is_numeric': 0,\n",
              "  'next_word': 'jostle',\n",
              "  'prefix_1': 't',\n",
              "  'prefix_2': 'th',\n",
              "  'prefix_3': 'the',\n",
              "  'prefix_4': 'they',\n",
              "  'prev_word': 'when',\n",
              "  'suffix_1': 'y',\n",
              "  'suffix_2': 'ey',\n",
              "  'suffix_3': 'hey',\n",
              "  'suffix_4': 'they',\n",
              "  'word_has_hyphen': 0},\n",
              " {'is_alphanumeric': 0,\n",
              "  'is_complete_capital': 0,\n",
              "  'is_first_capital': 0,\n",
              "  'is_first_word': 0,\n",
              "  'is_last_word': 0,\n",
              "  'is_numeric': 0,\n",
              "  'next_word': 'for',\n",
              "  'prefix_1': 'j',\n",
              "  'prefix_2': 'jo',\n",
              "  'prefix_3': 'jos',\n",
              "  'prefix_4': 'jost',\n",
              "  'prev_word': 'they',\n",
              "  'suffix_1': 'e',\n",
              "  'suffix_2': 'le',\n",
              "  'suffix_3': 'tle',\n",
              "  'suffix_4': 'stle',\n",
              "  'word_has_hyphen': 0},\n",
              " {'is_alphanumeric': 0,\n",
              "  'is_complete_capital': 0,\n",
              "  'is_first_capital': 0,\n",
              "  'is_first_word': 0,\n",
              "  'is_last_word': 0,\n",
              "  'is_numeric': 0,\n",
              "  'next_word': 'cabs',\n",
              "  'prefix_1': 'f',\n",
              "  'prefix_2': 'fo',\n",
              "  'prefix_3': 'for',\n",
              "  'prefix_4': 'for',\n",
              "  'prev_word': 'jostle',\n",
              "  'suffix_1': 'r',\n",
              "  'suffix_2': 'or',\n",
              "  'suffix_3': 'for',\n",
              "  'suffix_4': 'for',\n",
              "  'word_has_hyphen': 0},\n",
              " {'is_alphanumeric': 0,\n",
              "  'is_complete_capital': 0,\n",
              "  'is_first_capital': 0,\n",
              "  'is_first_word': 0,\n",
              "  'is_last_word': 0,\n",
              "  'is_numeric': 0,\n",
              "  'next_word': '*T*-1',\n",
              "  'prefix_1': 'c',\n",
              "  'prefix_2': 'ca',\n",
              "  'prefix_3': 'cab',\n",
              "  'prefix_4': 'cabs',\n",
              "  'prev_word': 'for',\n",
              "  'suffix_1': 's',\n",
              "  'suffix_2': 'bs',\n",
              "  'suffix_3': 'abs',\n",
              "  'suffix_4': 'cabs',\n",
              "  'word_has_hyphen': 0},\n",
              " {'is_alphanumeric': 1,\n",
              "  'is_complete_capital': 1,\n",
              "  'is_first_capital': 0,\n",
              "  'is_first_word': 0,\n",
              "  'is_last_word': 0,\n",
              "  'is_numeric': 0,\n",
              "  'next_word': '.',\n",
              "  'prefix_1': '*',\n",
              "  'prefix_2': '*T',\n",
              "  'prefix_3': '*T*',\n",
              "  'prefix_4': '*T*-',\n",
              "  'prev_word': 'cabs',\n",
              "  'suffix_1': '1',\n",
              "  'suffix_2': '-1',\n",
              "  'suffix_3': '*-1',\n",
              "  'suffix_4': 'T*-1',\n",
              "  'word_has_hyphen': 1},\n",
              " {'is_alphanumeric': 0,\n",
              "  'is_complete_capital': 1,\n",
              "  'is_first_capital': 0,\n",
              "  'is_first_word': 0,\n",
              "  'is_last_word': 1,\n",
              "  'is_numeric': 0,\n",
              "  'next_word': '',\n",
              "  'prefix_1': '.',\n",
              "  'prefix_2': '.',\n",
              "  'prefix_3': '.',\n",
              "  'prefix_4': '.',\n",
              "  'prev_word': '*T*-1',\n",
              "  'suffix_1': '.',\n",
              "  'suffix_2': '.',\n",
              "  'suffix_3': '.',\n",
              "  'suffix_4': '.',\n",
              "  'word_has_hyphen': 0}]"
            ]
          },
          "metadata": {
            "tags": []
          },
          "execution_count": 21
        }
      ]
    },
    {
      "cell_type": "code",
      "metadata": {
        "colab": {
          "base_uri": "https://localhost:8080/"
        },
        "id": "zSg2iqOcHwsU",
        "outputId": "ccb3929f-8ef9-4341-b2db-7a547a543fa8"
      },
      "source": [
        "y_train[0]"
      ],
      "execution_count": null,
      "outputs": [
        {
          "output_type": "execute_result",
          "data": {
            "text/plain": [
              "['ADP',\n",
              " 'NOUN',\n",
              " 'NOUN',\n",
              " 'NOUN',\n",
              " 'CONJ',\n",
              " 'NOUN',\n",
              " 'VERB',\n",
              " 'ADP',\n",
              " 'ADJ',\n",
              " 'NOUN',\n",
              " '.',\n",
              " 'X',\n",
              " 'VERB',\n",
              " 'NUM',\n",
              " 'DET',\n",
              " 'ADV',\n",
              " 'ADV',\n",
              " 'PRON',\n",
              " 'VERB',\n",
              " 'ADP',\n",
              " 'NOUN',\n",
              " 'X',\n",
              " '.']"
            ]
          },
          "metadata": {
            "tags": []
          },
          "execution_count": 22
        }
      ]
    },
    {
      "cell_type": "markdown",
      "metadata": {
        "id": "WCGxc7jHHwsV"
      },
      "source": [
        "#### Let us fit a CRF model with the default Parameters"
      ]
    },
    {
      "cell_type": "code",
      "metadata": {
        "colab": {
          "base_uri": "https://localhost:8080/"
        },
        "id": "6hLzEbm8HwsV",
        "outputId": "5fc637dc-4bd6-42a6-d93e-500bbdd058c4"
      },
      "source": [
        "crf = CRF(\n",
        "    algorithm='lbfgs',\n",
        "    c1=0.01,\n",
        "    c2=0.1,\n",
        "    max_iterations=100,\n",
        "    all_possible_transitions=True\n",
        ")\n",
        "crf.fit(X_train, y_train)"
      ],
      "execution_count": null,
      "outputs": [
        {
          "output_type": "stream",
          "text": [
            "/usr/local/lib/python3.7/dist-packages/sklearn/base.py:197: FutureWarning: From version 0.24, get_params will raise an AttributeError if a parameter cannot be retrieved as an instance attribute. Previously it would return None.\n",
            "  FutureWarning)\n"
          ],
          "name": "stderr"
        },
        {
          "output_type": "execute_result",
          "data": {
            "text/plain": [
              "CRF(algorithm='lbfgs', all_possible_states=None, all_possible_transitions=True,\n",
              "    averaging=None, c=None, c1=0.01, c2=0.1, calibration_candidates=None,\n",
              "    calibration_eta=None, calibration_max_trials=None, calibration_rate=None,\n",
              "    calibration_samples=None, delta=None, epsilon=None, error_sensitive=None,\n",
              "    gamma=None, keep_tempfiles=None, linesearch=None, max_iterations=100,\n",
              "    max_linesearch=None, min_freq=None, model_filename=None, num_memories=None,\n",
              "    pa_type=None, period=None, trainer_cls=None, variance=None, verbose=False)"
            ]
          },
          "metadata": {
            "tags": []
          },
          "execution_count": 23
        }
      ]
    },
    {
      "cell_type": "code",
      "metadata": {
        "id": "KvqZnN8aHwsW"
      },
      "source": [
        "y_pred=crf.predict(X_test)"
      ],
      "execution_count": null,
      "outputs": []
    },
    {
      "cell_type": "code",
      "metadata": {
        "colab": {
          "base_uri": "https://localhost:8080/"
        },
        "id": "a1hANYHnHwsW",
        "outputId": "70dba03b-3a82-47a7-c9ea-f70f8001d5a7"
      },
      "source": [
        "metrics.flat_f1_score(y_test, y_pred,average='weighted',labels=crf.classes_)"
      ],
      "execution_count": null,
      "outputs": [
        {
          "output_type": "execute_result",
          "data": {
            "text/plain": [
              "0.9738471726864286"
            ]
          },
          "metadata": {
            "tags": []
          },
          "execution_count": 25
        }
      ]
    },
    {
      "cell_type": "code",
      "metadata": {
        "colab": {
          "base_uri": "https://localhost:8080/"
        },
        "id": "jUvRiRLPHwsX",
        "outputId": "720badde-08ef-4d57-9fed-e363a2a8f449"
      },
      "source": [
        "y_pred_train=crf.predict(X_train)\n",
        "metrics.flat_f1_score(y_train, y_pred_train,average='weighted',labels=crf.classes_)"
      ],
      "execution_count": null,
      "outputs": [
        {
          "output_type": "execute_result",
          "data": {
            "text/plain": [
              "0.9963402924209424"
            ]
          },
          "metadata": {
            "tags": []
          },
          "execution_count": 26
        }
      ]
    },
    {
      "cell_type": "markdown",
      "metadata": {
        "id": "xjd5SDs8HwsY"
      },
      "source": [
        "#### THE CRF Model had an F1 score of 0.97 on the test data and 0.996 on the train data. There is overfitting and we have to tune this model. \n",
        "But, before we tune the model, let us look at where the CRF failed and what are the important features used to identify different POS Tags"
      ]
    },
    {
      "cell_type": "code",
      "metadata": {
        "colab": {
          "base_uri": "https://localhost:8080/"
        },
        "id": "mi0d6lnQHwsY",
        "outputId": "03b9fc26-f6f5-452d-d83e-7867776c3e29"
      },
      "source": [
        "metrics.flat_accuracy_score(y_test,y_pred)"
      ],
      "execution_count": null,
      "outputs": [
        {
          "output_type": "execute_result",
          "data": {
            "text/plain": [
              "0.9739726027397261"
            ]
          },
          "metadata": {
            "tags": []
          },
          "execution_count": 27
        }
      ]
    },
    {
      "cell_type": "code",
      "metadata": {
        "colab": {
          "base_uri": "https://localhost:8080/"
        },
        "id": "G-mOIRszHwsZ",
        "outputId": "56329112-fb54-41b9-da49-dabbac822e50"
      },
      "source": [
        "metrics.flat_accuracy_score(y_train,y_pred_train)"
      ],
      "execution_count": null,
      "outputs": [
        {
          "output_type": "execute_result",
          "data": {
            "text/plain": [
              "0.9963441444556974"
            ]
          },
          "metadata": {
            "tags": []
          },
          "execution_count": 28
        }
      ]
    },
    {
      "cell_type": "markdown",
      "metadata": {
        "id": "wXYiWDiBHwsa"
      },
      "source": [
        "#### Let us look at class wise scores"
      ]
    },
    {
      "cell_type": "code",
      "metadata": {
        "colab": {
          "base_uri": "https://localhost:8080/"
        },
        "id": "HMgUfwPTHwsb",
        "outputId": "716eb47a-6bca-4cd7-9ed1-6df546b7b723"
      },
      "source": [
        "print(metrics.flat_classification_report(\n",
        "    y_test, y_pred, labels=crf.classes_, digits=3\n",
        "))"
      ],
      "execution_count": null,
      "outputs": [
        {
          "output_type": "stream",
          "text": [
            "              precision    recall  f1-score   support\n",
            "\n",
            "         ADP      0.979     0.985     0.982      1869\n",
            "        NOUN      0.966     0.977     0.972      5606\n",
            "        CONJ      0.994     0.994     0.994       480\n",
            "        VERB      0.964     0.960     0.962      2722\n",
            "         ADJ      0.911     0.874     0.892      1274\n",
            "           .      1.000     1.000     1.000      2354\n",
            "           X      1.000     0.997     0.998      1278\n",
            "         NUM      0.991     0.993     0.992       671\n",
            "         DET      0.994     0.995     0.994      1695\n",
            "         ADV      0.927     0.909     0.918       585\n",
            "        PRON      0.998     0.998     0.998       562\n",
            "         PRT      0.979     0.982     0.980       614\n",
            "\n",
            "    accuracy                          0.974     19710\n",
            "   macro avg      0.975     0.972     0.974     19710\n",
            "weighted avg      0.974     0.974     0.974     19710\n",
            "\n"
          ],
          "name": "stdout"
        }
      ]
    },
    {
      "cell_type": "markdown",
      "metadata": {
        "id": "JgMGYo8KHwsc"
      },
      "source": [
        "Adjectives have a low precision, recall and F1 score"
      ]
    },
    {
      "cell_type": "markdown",
      "metadata": {
        "id": "tMqqz7jGHwsc"
      },
      "source": [
        "### Let us look at Top Most likely Transition Features\n"
      ]
    },
    {
      "cell_type": "code",
      "metadata": {
        "colab": {
          "base_uri": "https://localhost:8080/"
        },
        "id": "cA_JnbHQHwsc",
        "outputId": "ff5bcd93-c6ce-46bf-9d3c-ff23bc5cca5c"
      },
      "source": [
        "print(\"Number of Transition Features \")\n",
        "len(crf.transition_features_)"
      ],
      "execution_count": null,
      "outputs": [
        {
          "output_type": "stream",
          "text": [
            "Number of Transition Features \n"
          ],
          "name": "stdout"
        },
        {
          "output_type": "execute_result",
          "data": {
            "text/plain": [
              "144"
            ]
          },
          "metadata": {
            "tags": []
          },
          "execution_count": 30
        }
      ]
    },
    {
      "cell_type": "code",
      "metadata": {
        "colab": {
          "base_uri": "https://localhost:8080/"
        },
        "id": "NP7g5icbHwsd",
        "outputId": "f5a83425-f7b8-452e-89d8-d53bf4f073d2"
      },
      "source": [
        "Counter(crf.transition_features_).most_common(20)"
      ],
      "execution_count": null,
      "outputs": [
        {
          "output_type": "execute_result",
          "data": {
            "text/plain": [
              "[(('ADJ', 'NOUN'), 4.114996),\n",
              " (('NOUN', 'NOUN'), 2.935448),\n",
              " (('NOUN', 'VERB'), 2.891987),\n",
              " (('VERB', 'PRT'), 2.519179),\n",
              " (('X', 'VERB'), 2.271558),\n",
              " (('ADP', 'NOUN'), 2.265833),\n",
              " (('NOUN', 'PRT'), 2.172849),\n",
              " (('PRON', 'VERB'), 2.117186),\n",
              " (('NUM', 'NOUN'), 2.059221),\n",
              " (('DET', 'NOUN'), 2.053832),\n",
              " (('ADV', 'VERB'), 1.994419),\n",
              " (('ADV', 'ADJ'), 1.957063),\n",
              " (('NOUN', 'ADP'), 1.838684),\n",
              " (('VERB', 'NOUN'), 1.763319),\n",
              " (('ADJ', 'ADJ'), 1.660578),\n",
              " (('NOUN', 'CONJ'), 1.591359),\n",
              " (('PRT', 'NOUN'), 1.398473),\n",
              " (('NOUN', '.'), 1.381863),\n",
              " (('NOUN', 'ADV'), 1.380086),\n",
              " (('ADV', 'ADV'), 1.301282)]"
            ]
          },
          "metadata": {
            "tags": []
          },
          "execution_count": 31
        }
      ]
    },
    {
      "cell_type": "markdown",
      "metadata": {
        "id": "ZAUk96nJHwsd"
      },
      "source": [
        " If there is an adjective, it is more likely to be followed by a NOUN"
      ]
    },
    {
      "cell_type": "code",
      "metadata": {
        "colab": {
          "base_uri": "https://localhost:8080/"
        },
        "id": "6zIKgjBaHwse",
        "outputId": "98c8944f-b107-4cf8-c593-5c0eb431115f"
      },
      "source": [
        "Counter(crf.transition_features_).most_common()[-20:]"
      ],
      "execution_count": null,
      "outputs": [
        {
          "output_type": "execute_result",
          "data": {
            "text/plain": [
              "[(('X', 'NOUN'), -1.136906),\n",
              " (('CONJ', 'PRT'), -1.140622),\n",
              " (('ADJ', 'DET'), -1.146271),\n",
              " (('.', 'DET'), -1.255028),\n",
              " (('ADJ', 'PRON'), -1.266624),\n",
              " (('PRON', 'DET'), -1.330807),\n",
              " (('DET', '.'), -1.336752),\n",
              " (('CONJ', '.'), -1.368327),\n",
              " (('ADP', 'PRT'), -1.392629),\n",
              " (('X', 'NUM'), -1.484666),\n",
              " (('DET', 'DET'), -1.509759),\n",
              " (('PRT', 'PRT'), -1.522135),\n",
              " (('PRT', 'NUM'), -1.562026),\n",
              " (('DET', 'ADP'), -1.969625),\n",
              " (('X', 'PRT'), -2.096541),\n",
              " (('CONJ', 'X'), -2.157477),\n",
              " (('PRON', 'PRT'), -2.158365),\n",
              " (('ADP', 'X'), -3.107295),\n",
              " (('.', 'PRT'), -3.193167),\n",
              " (('DET', 'PRT'), -4.377446)]"
            ]
          },
          "metadata": {
            "tags": []
          },
          "execution_count": 32
        }
      ]
    },
    {
      "cell_type": "markdown",
      "metadata": {
        "id": "Pg2JcE0_Hwse"
      },
      "source": [
        "Its unlikely that sentence is this corpus begins qith a DET or PRT. Unknown is not followed by a NOUN\n",
        "\n"
      ]
    },
    {
      "cell_type": "markdown",
      "metadata": {
        "id": "pKv63M9lHwse"
      },
      "source": [
        "### What are the most likely state features"
      ]
    },
    {
      "cell_type": "code",
      "metadata": {
        "colab": {
          "base_uri": "https://localhost:8080/"
        },
        "id": "21C_1-75Hwsf",
        "outputId": "c6dd4262-4c93-4fc8-af02-ee36c0d0b424"
      },
      "source": [
        "print(\"Number of State Features \",len(crf.state_features_))"
      ],
      "execution_count": null,
      "outputs": [
        {
          "output_type": "stream",
          "text": [
            "Number of State Features  32413\n"
          ],
          "name": "stdout"
        }
      ]
    },
    {
      "cell_type": "code",
      "metadata": {
        "colab": {
          "base_uri": "https://localhost:8080/"
        },
        "id": "9htKzHZdHwsf",
        "outputId": "a8eeda61-08ac-4283-9de9-1cf612092a13"
      },
      "source": [
        "Counter(crf.state_features_).most_common(20)"
      ],
      "execution_count": null,
      "outputs": [
        {
          "output_type": "execute_result",
          "data": {
            "text/plain": [
              "[(('prev_word:will', 'VERB'), 6.751359),\n",
              " (('prev_word:would', 'VERB'), 5.940819),\n",
              " (('prefix_1:*', 'X'), 5.830558),\n",
              " (('suffix_4:rest', 'NOUN'), 5.644523),\n",
              " (('suffix_2:ly', 'ADV'), 5.260228),\n",
              " (('is_first_capital', 'NOUN'), 5.043121),\n",
              " (('prev_word:could', 'VERB'), 5.018842),\n",
              " (('suffix_3:ous', 'ADJ'), 4.870949),\n",
              " (('prev_word:to', 'VERB'), 4.849822),\n",
              " (('suffix_4:will', 'VERB'), 4.677684),\n",
              " (('next_word:appeal', 'ADJ'), 4.386434),\n",
              " (('prev_word:how', 'PRT'), 4.35094),\n",
              " (('suffix_4:pany', 'NOUN'), 4.329975),\n",
              " (('prefix_4:many', 'ADJ'), 4.205028),\n",
              " (('prev_word:lock', 'PRT'), 4.153643),\n",
              " (('word_has_hyphen', 'ADJ'), 4.151036),\n",
              " (('prev_word:tune', 'PRT'), 4.147576),\n",
              " (('next_word:Express', 'NOUN'), 4.137127),\n",
              " (('suffix_4:food', 'NOUN'), 4.116688),\n",
              " (('suffix_2:ed', 'VERB'), 4.070659)]"
            ]
          },
          "metadata": {
            "tags": []
          },
          "execution_count": 34
        }
      ]
    },
    {
      "cell_type": "markdown",
      "metadata": {
        "id": "OTKEAGxrHwsf"
      },
      "source": [
        "If the prev word is will or would or to then it is a verb and if the first letter of word in capitalised it is a nOUN. words ending with ed are verbs. "
      ]
    },
    {
      "cell_type": "code",
      "metadata": {
        "colab": {
          "base_uri": "https://localhost:8080/"
        },
        "id": "GGK61Yl5Hwsg",
        "outputId": "2449ad58-f7bb-4009-ad00-49529f769469"
      },
      "source": [
        "Counter(crf.state_features_).most_common()[-20:]"
      ],
      "execution_count": null,
      "outputs": [
        {
          "output_type": "execute_result",
          "data": {
            "text/plain": [
              "[(('suffix_4:less', 'NOUN'), -2.430638),\n",
              " (('prev_word:*', 'DET'), -2.435687),\n",
              " (('prev_word:moderate', 'NOUN'), -2.517772),\n",
              " (('prev_word:paid', 'ADP'), -2.533975),\n",
              " (('suffix_4:ment', 'ADJ'), -2.572212),\n",
              " (('prev_word:was', 'NOUN'), -2.586244),\n",
              " (('prev_word:--', 'CONJ'), -2.58728),\n",
              " (('next_word:what', 'CONJ'), -2.621051),\n",
              " (('prev_word:--', 'DET'), -2.692732),\n",
              " (('prev_word:Media', 'VERB'), -2.6973),\n",
              " (('prefix_4:shor', 'NOUN'), -2.698477),\n",
              " (('prev_word:their', 'VERB'), -2.714216),\n",
              " (('next_word:currency', 'NOUN'), -2.732162),\n",
              " (('suffix_4:good', 'NOUN'), -2.809532),\n",
              " (('suffix_4:rter', 'ADJ'), -3.174431),\n",
              " (('prev_word:*U*', 'VERB'), -3.205405),\n",
              " (('next_word:of', 'PRT'), -3.22855),\n",
              " (('next_word:swap', 'ADJ'), -3.474744),\n",
              " (('prev_word:his', 'VERB'), -3.683731),\n",
              " (('word_has_hyphen', 'VERB'), -4.63526)]"
            ]
          },
          "metadata": {
            "tags": []
          },
          "execution_count": 35
        }
      ]
    },
    {
      "cell_type": "markdown",
      "metadata": {
        "id": "gQaJxk3VHwsg"
      },
      "source": [
        "if a word has hyphen, then it is least likely to be a verb, his is less likely to be followed by a verb. if a word ends with less, it is most likely not a noun."
      ]
    }
  ]
}