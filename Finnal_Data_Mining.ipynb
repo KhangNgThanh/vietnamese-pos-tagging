{
  "nbformat": 4,
  "nbformat_minor": 0,
  "metadata": {
    "colab": {
      "name": "Finnal-Data-Mining.ipynb",
      "provenance": [],
      "collapsed_sections": [],
      "toc_visible": true,
      "include_colab_link": true
    },
    "kernelspec": {
      "name": "python3",
      "display_name": "Python 3"
    },
    "language_info": {
      "name": "python"
    }
  },
  "cells": [
    {
      "cell_type": "markdown",
      "metadata": {
        "id": "view-in-github",
        "colab_type": "text"
      },
      "source": [
        "<a href=\"https://colab.research.google.com/github/nthanhkhang/vietnamese-pos-tagging/blob/main/Finnal_Data_Mining.ipynb\" target=\"_parent\"><img src=\"https://colab.research.google.com/assets/colab-badge.svg\" alt=\"Open In Colab\"/></a>"
      ]
    },
    {
      "cell_type": "markdown",
      "metadata": {
        "id": "A3WZk50Hy9R6"
      },
      "source": [
        "# SMS Spam Detection\n",
        "    \n",
        "    The SMS Spam Collection is a set of SMS tagged messages that have been collected for SMS Spam research. It contains one set of SMS messages in English of 5,574 messages, tagged acording being ham (legitimate) or spam.\n",
        "\n",
        "    Acknowledgements\n",
        "\n",
        "    The original dataset can be found in https://archive.ics.uci.edu/ml/datasets/SMS+Spam+Collection. The creators would like to note that in case you find the dataset useful, please make a reference to previous paper and the web page: http://www.dt.fee.unicamp.br/~tiago/smsspamcollection/ in your papers, research, etc.\n",
        "\n",
        "\n",
        "\n",
        "\n"
      ]
    },
    {
      "cell_type": "code",
      "metadata": {
        "id": "7wOOwjCQ2GCk",
        "colab": {
          "base_uri": "https://localhost:8080/"
        },
        "outputId": "fb4615dc-d125-41bb-a434-2ac2276038db"
      },
      "source": [
        "!wget https://raw.githubusercontent.com/nthanhkhang/Natural-Language-Processing/main/Data/sms_spam.csv"
      ],
      "execution_count": 249,
      "outputs": [
        {
          "output_type": "stream",
          "text": [
            "--2021-04-01 14:20:52--  https://raw.githubusercontent.com/nthanhkhang/Natural-Language-Processing/main/Data/sms_spam.csv\n",
            "Resolving raw.githubusercontent.com (raw.githubusercontent.com)... 185.199.108.133, 185.199.109.133, 185.199.110.133, ...\n",
            "Connecting to raw.githubusercontent.com (raw.githubusercontent.com)|185.199.108.133|:443... connected.\n",
            "HTTP request sent, awaiting response... 200 OK\n",
            "Length: 503663 (492K) [text/plain]\n",
            "Saving to: ‘sms_spam.csv.31’\n",
            "\n",
            "\rsms_spam.csv.31       0%[                    ]       0  --.-KB/s               \rsms_spam.csv.31     100%[===================>] 491.86K  --.-KB/s    in 0.01s   \n",
            "\n",
            "2021-04-01 14:20:52 (45.3 MB/s) - ‘sms_spam.csv.31’ saved [503663/503663]\n",
            "\n"
          ],
          "name": "stdout"
        }
      ]
    },
    {
      "cell_type": "markdown",
      "metadata": {
        "id": "2X5FjQx_zFbc"
      },
      "source": [
        "### 1. Import Packages"
      ]
    },
    {
      "cell_type": "code",
      "metadata": {
        "id": "-FcV45ohzBzu",
        "colab": {
          "base_uri": "https://localhost:8080/"
        },
        "outputId": "76b77096-7616-4a07-e719-d9a1d4b392c5"
      },
      "source": [
        "import nltk\n",
        "nltk.download('stopwords')\n",
        "\n",
        "import warnings\n",
        "warnings.filterwarnings('ignore')\n",
        "import pandas as pd\n",
        "import numpy as np\n",
        "import seaborn as sns\n",
        "import matplotlib as mpl\n",
        "import matplotlib.pyplot as plt\n",
        "%matplotlib inline\n",
        "\n",
        "from sklearn.model_selection import cross_val_score\n",
        "from numpy import sqrt\n",
        "from numpy import mean\n",
        "from numpy import absolute\n",
        "\n",
        "from sklearn import tree\n",
        "from sklearn.model_selection import KFold\n",
        "from sklearn import metrics\n",
        "import time\n",
        "\n",
        "import string\n",
        "from nltk.corpus import stopwords\n",
        "\n",
        "from sklearn.model_selection import train_test_split\n",
        "from sklearn.feature_extraction.text import TfidfVectorizer\n",
        "from sklearn.feature_extraction.text import HashingVectorizer\n",
        "from sklearn.feature_extraction.text import CountVectorizer\n",
        "from sklearn.feature_extraction.text import TfidfTransformer\n",
        "from sklearn import metrics\n",
        "\n",
        "from nltk.stem import WordNetLemmatizer\n",
        "from nltk import pos_tag, word_tokenize\n",
        "from sklearn import svm\n",
        "from sklearn.metrics import confusion_matrix"
      ],
      "execution_count": 250,
      "outputs": [
        {
          "output_type": "stream",
          "text": [
            "[nltk_data] Downloading package stopwords to /root/nltk_data...\n",
            "[nltk_data]   Package stopwords is already up-to-date!\n"
          ],
          "name": "stdout"
        }
      ]
    },
    {
      "cell_type": "markdown",
      "metadata": {
        "id": "CegvRB0izPvy"
      },
      "source": [
        "### 2. Dataset Loading and Data Preprocessing"
      ]
    },
    {
      "cell_type": "markdown",
      "metadata": {
        "id": "-gu8k_13zTCo"
      },
      "source": [
        "#### 2.1. Read dataset using pandas"
      ]
    },
    {
      "cell_type": "code",
      "metadata": {
        "colab": {
          "base_uri": "https://localhost:8080/",
          "height": 202
        },
        "id": "fsIz17YvzPjt",
        "outputId": "3ccfddfc-d641-48d2-90a5-c78ab1e571bd"
      },
      "source": [
        "sms = pd.read_csv(\"sms_spam.csv\", encoding='latin-1') \n",
        "sms.head()"
      ],
      "execution_count": 251,
      "outputs": [
        {
          "output_type": "execute_result",
          "data": {
            "text/html": [
              "<div>\n",
              "<style scoped>\n",
              "    .dataframe tbody tr th:only-of-type {\n",
              "        vertical-align: middle;\n",
              "    }\n",
              "\n",
              "    .dataframe tbody tr th {\n",
              "        vertical-align: top;\n",
              "    }\n",
              "\n",
              "    .dataframe thead th {\n",
              "        text-align: right;\n",
              "    }\n",
              "</style>\n",
              "<table border=\"1\" class=\"dataframe\">\n",
              "  <thead>\n",
              "    <tr style=\"text-align: right;\">\n",
              "      <th></th>\n",
              "      <th>v1</th>\n",
              "      <th>v2</th>\n",
              "      <th>Unnamed: 2</th>\n",
              "      <th>Unnamed: 3</th>\n",
              "      <th>Unnamed: 4</th>\n",
              "    </tr>\n",
              "  </thead>\n",
              "  <tbody>\n",
              "    <tr>\n",
              "      <th>0</th>\n",
              "      <td>ham</td>\n",
              "      <td>Go until jurong point, crazy.. Available only ...</td>\n",
              "      <td>NaN</td>\n",
              "      <td>NaN</td>\n",
              "      <td>NaN</td>\n",
              "    </tr>\n",
              "    <tr>\n",
              "      <th>1</th>\n",
              "      <td>ham</td>\n",
              "      <td>Ok lar... Joking wif u oni...</td>\n",
              "      <td>NaN</td>\n",
              "      <td>NaN</td>\n",
              "      <td>NaN</td>\n",
              "    </tr>\n",
              "    <tr>\n",
              "      <th>2</th>\n",
              "      <td>spam</td>\n",
              "      <td>Free entry in 2 a wkly comp to win FA Cup fina...</td>\n",
              "      <td>NaN</td>\n",
              "      <td>NaN</td>\n",
              "      <td>NaN</td>\n",
              "    </tr>\n",
              "    <tr>\n",
              "      <th>3</th>\n",
              "      <td>ham</td>\n",
              "      <td>U dun say so early hor... U c already then say...</td>\n",
              "      <td>NaN</td>\n",
              "      <td>NaN</td>\n",
              "      <td>NaN</td>\n",
              "    </tr>\n",
              "    <tr>\n",
              "      <th>4</th>\n",
              "      <td>ham</td>\n",
              "      <td>Nah I don't think he goes to usf, he lives aro...</td>\n",
              "      <td>NaN</td>\n",
              "      <td>NaN</td>\n",
              "      <td>NaN</td>\n",
              "    </tr>\n",
              "  </tbody>\n",
              "</table>\n",
              "</div>"
            ],
            "text/plain": [
              "     v1  ... Unnamed: 4\n",
              "0   ham  ...        NaN\n",
              "1   ham  ...        NaN\n",
              "2  spam  ...        NaN\n",
              "3   ham  ...        NaN\n",
              "4   ham  ...        NaN\n",
              "\n",
              "[5 rows x 5 columns]"
            ]
          },
          "metadata": {
            "tags": []
          },
          "execution_count": 251
        }
      ]
    },
    {
      "cell_type": "markdown",
      "metadata": {
        "id": "oOSXX51Gz-tH"
      },
      "source": [
        "#### 2.2. Remove redundant attributes"
      ]
    },
    {
      "cell_type": "code",
      "metadata": {
        "colab": {
          "base_uri": "https://localhost:8080/",
          "height": 202
        },
        "id": "KQe7Rz3MzLjy",
        "outputId": "05ef1ae2-3188-4f8f-f0b6-1b9715c97f49"
      },
      "source": [
        "sms.drop([\"Unnamed: 2\", \"Unnamed: 3\", \"Unnamed: 4\"], axis = 1, inplace = True)\n",
        "sms.head()"
      ],
      "execution_count": 252,
      "outputs": [
        {
          "output_type": "execute_result",
          "data": {
            "text/html": [
              "<div>\n",
              "<style scoped>\n",
              "    .dataframe tbody tr th:only-of-type {\n",
              "        vertical-align: middle;\n",
              "    }\n",
              "\n",
              "    .dataframe tbody tr th {\n",
              "        vertical-align: top;\n",
              "    }\n",
              "\n",
              "    .dataframe thead th {\n",
              "        text-align: right;\n",
              "    }\n",
              "</style>\n",
              "<table border=\"1\" class=\"dataframe\">\n",
              "  <thead>\n",
              "    <tr style=\"text-align: right;\">\n",
              "      <th></th>\n",
              "      <th>v1</th>\n",
              "      <th>v2</th>\n",
              "    </tr>\n",
              "  </thead>\n",
              "  <tbody>\n",
              "    <tr>\n",
              "      <th>0</th>\n",
              "      <td>ham</td>\n",
              "      <td>Go until jurong point, crazy.. Available only ...</td>\n",
              "    </tr>\n",
              "    <tr>\n",
              "      <th>1</th>\n",
              "      <td>ham</td>\n",
              "      <td>Ok lar... Joking wif u oni...</td>\n",
              "    </tr>\n",
              "    <tr>\n",
              "      <th>2</th>\n",
              "      <td>spam</td>\n",
              "      <td>Free entry in 2 a wkly comp to win FA Cup fina...</td>\n",
              "    </tr>\n",
              "    <tr>\n",
              "      <th>3</th>\n",
              "      <td>ham</td>\n",
              "      <td>U dun say so early hor... U c already then say...</td>\n",
              "    </tr>\n",
              "    <tr>\n",
              "      <th>4</th>\n",
              "      <td>ham</td>\n",
              "      <td>Nah I don't think he goes to usf, he lives aro...</td>\n",
              "    </tr>\n",
              "  </tbody>\n",
              "</table>\n",
              "</div>"
            ],
            "text/plain": [
              "     v1                                                 v2\n",
              "0   ham  Go until jurong point, crazy.. Available only ...\n",
              "1   ham                      Ok lar... Joking wif u oni...\n",
              "2  spam  Free entry in 2 a wkly comp to win FA Cup fina...\n",
              "3   ham  U dun say so early hor... U c already then say...\n",
              "4   ham  Nah I don't think he goes to usf, he lives aro..."
            ]
          },
          "metadata": {
            "tags": []
          },
          "execution_count": 252
        }
      ]
    },
    {
      "cell_type": "markdown",
      "metadata": {
        "id": "dI8ovQQY0p8L"
      },
      "source": [
        "#### 2.3. Rename columns\n",
        "Requires: v1 -> label, v2 -> message"
      ]
    },
    {
      "cell_type": "code",
      "metadata": {
        "colab": {
          "base_uri": "https://localhost:8080/",
          "height": 202
        },
        "id": "SalX1Y5A0hNh",
        "outputId": "e9817e92-1fb1-48a7-df17-704452b56b48"
      },
      "source": [
        "sms.columns = [\"label\", \"message\"]\n",
        "sms.head()"
      ],
      "execution_count": 253,
      "outputs": [
        {
          "output_type": "execute_result",
          "data": {
            "text/html": [
              "<div>\n",
              "<style scoped>\n",
              "    .dataframe tbody tr th:only-of-type {\n",
              "        vertical-align: middle;\n",
              "    }\n",
              "\n",
              "    .dataframe tbody tr th {\n",
              "        vertical-align: top;\n",
              "    }\n",
              "\n",
              "    .dataframe thead th {\n",
              "        text-align: right;\n",
              "    }\n",
              "</style>\n",
              "<table border=\"1\" class=\"dataframe\">\n",
              "  <thead>\n",
              "    <tr style=\"text-align: right;\">\n",
              "      <th></th>\n",
              "      <th>label</th>\n",
              "      <th>message</th>\n",
              "    </tr>\n",
              "  </thead>\n",
              "  <tbody>\n",
              "    <tr>\n",
              "      <th>0</th>\n",
              "      <td>ham</td>\n",
              "      <td>Go until jurong point, crazy.. Available only ...</td>\n",
              "    </tr>\n",
              "    <tr>\n",
              "      <th>1</th>\n",
              "      <td>ham</td>\n",
              "      <td>Ok lar... Joking wif u oni...</td>\n",
              "    </tr>\n",
              "    <tr>\n",
              "      <th>2</th>\n",
              "      <td>spam</td>\n",
              "      <td>Free entry in 2 a wkly comp to win FA Cup fina...</td>\n",
              "    </tr>\n",
              "    <tr>\n",
              "      <th>3</th>\n",
              "      <td>ham</td>\n",
              "      <td>U dun say so early hor... U c already then say...</td>\n",
              "    </tr>\n",
              "    <tr>\n",
              "      <th>4</th>\n",
              "      <td>ham</td>\n",
              "      <td>Nah I don't think he goes to usf, he lives aro...</td>\n",
              "    </tr>\n",
              "  </tbody>\n",
              "</table>\n",
              "</div>"
            ],
            "text/plain": [
              "  label                                            message\n",
              "0   ham  Go until jurong point, crazy.. Available only ...\n",
              "1   ham                      Ok lar... Joking wif u oni...\n",
              "2  spam  Free entry in 2 a wkly comp to win FA Cup fina...\n",
              "3   ham  U dun say so early hor... U c already then say...\n",
              "4   ham  Nah I don't think he goes to usf, he lives aro..."
            ]
          },
          "metadata": {
            "tags": []
          },
          "execution_count": 253
        }
      ]
    },
    {
      "cell_type": "markdown",
      "metadata": {
        "id": "A8jgWhjT0y9e"
      },
      "source": [
        "#### 2.4. Modify columns\n",
        "Requires: change ham to 0, and spam to 1 in Label Attribute."
      ]
    },
    {
      "cell_type": "code",
      "metadata": {
        "colab": {
          "base_uri": "https://localhost:8080/",
          "height": 202
        },
        "id": "95f3PqAb0uG_",
        "outputId": "5f4615d8-202b-47af-966c-32c86254c2a4"
      },
      "source": [
        "sms['label_num']=sms['label'].apply(len)\n",
        "sms.head()\n",
        "for i in sms.index:\n",
        "  if sms['label'][i]=='ham':\n",
        "    sms['label_num'][i]=0\n",
        "  else:\n",
        "    sms['label_num'][i]=1\n",
        "sms.head()"
      ],
      "execution_count": 254,
      "outputs": [
        {
          "output_type": "execute_result",
          "data": {
            "text/html": [
              "<div>\n",
              "<style scoped>\n",
              "    .dataframe tbody tr th:only-of-type {\n",
              "        vertical-align: middle;\n",
              "    }\n",
              "\n",
              "    .dataframe tbody tr th {\n",
              "        vertical-align: top;\n",
              "    }\n",
              "\n",
              "    .dataframe thead th {\n",
              "        text-align: right;\n",
              "    }\n",
              "</style>\n",
              "<table border=\"1\" class=\"dataframe\">\n",
              "  <thead>\n",
              "    <tr style=\"text-align: right;\">\n",
              "      <th></th>\n",
              "      <th>label</th>\n",
              "      <th>message</th>\n",
              "      <th>label_num</th>\n",
              "    </tr>\n",
              "  </thead>\n",
              "  <tbody>\n",
              "    <tr>\n",
              "      <th>0</th>\n",
              "      <td>ham</td>\n",
              "      <td>Go until jurong point, crazy.. Available only ...</td>\n",
              "      <td>0</td>\n",
              "    </tr>\n",
              "    <tr>\n",
              "      <th>1</th>\n",
              "      <td>ham</td>\n",
              "      <td>Ok lar... Joking wif u oni...</td>\n",
              "      <td>0</td>\n",
              "    </tr>\n",
              "    <tr>\n",
              "      <th>2</th>\n",
              "      <td>spam</td>\n",
              "      <td>Free entry in 2 a wkly comp to win FA Cup fina...</td>\n",
              "      <td>1</td>\n",
              "    </tr>\n",
              "    <tr>\n",
              "      <th>3</th>\n",
              "      <td>ham</td>\n",
              "      <td>U dun say so early hor... U c already then say...</td>\n",
              "      <td>0</td>\n",
              "    </tr>\n",
              "    <tr>\n",
              "      <th>4</th>\n",
              "      <td>ham</td>\n",
              "      <td>Nah I don't think he goes to usf, he lives aro...</td>\n",
              "      <td>0</td>\n",
              "    </tr>\n",
              "  </tbody>\n",
              "</table>\n",
              "</div>"
            ],
            "text/plain": [
              "  label                                            message  label_num\n",
              "0   ham  Go until jurong point, crazy.. Available only ...          0\n",
              "1   ham                      Ok lar... Joking wif u oni...          0\n",
              "2  spam  Free entry in 2 a wkly comp to win FA Cup fina...          1\n",
              "3   ham  U dun say so early hor... U c already then say...          0\n",
              "4   ham  Nah I don't think he goes to usf, he lives aro...          0"
            ]
          },
          "metadata": {
            "tags": []
          },
          "execution_count": 254
        }
      ]
    },
    {
      "cell_type": "markdown",
      "metadata": {
        "id": "P3JcGkr03BOl"
      },
      "source": [
        "#### 2.5. Add new column\n",
        "Requires: Add message_len Attribute that is the length of the message."
      ]
    },
    {
      "cell_type": "code",
      "metadata": {
        "colab": {
          "base_uri": "https://localhost:8080/",
          "height": 202
        },
        "id": "43xbVbbb3F6I",
        "outputId": "c54ff7c8-bd2b-40c2-d8d1-a2574b306f2a"
      },
      "source": [
        "sms['length']=sms['message'].apply(len)\n",
        "sms.head()"
      ],
      "execution_count": 255,
      "outputs": [
        {
          "output_type": "execute_result",
          "data": {
            "text/html": [
              "<div>\n",
              "<style scoped>\n",
              "    .dataframe tbody tr th:only-of-type {\n",
              "        vertical-align: middle;\n",
              "    }\n",
              "\n",
              "    .dataframe tbody tr th {\n",
              "        vertical-align: top;\n",
              "    }\n",
              "\n",
              "    .dataframe thead th {\n",
              "        text-align: right;\n",
              "    }\n",
              "</style>\n",
              "<table border=\"1\" class=\"dataframe\">\n",
              "  <thead>\n",
              "    <tr style=\"text-align: right;\">\n",
              "      <th></th>\n",
              "      <th>label</th>\n",
              "      <th>message</th>\n",
              "      <th>label_num</th>\n",
              "      <th>length</th>\n",
              "    </tr>\n",
              "  </thead>\n",
              "  <tbody>\n",
              "    <tr>\n",
              "      <th>0</th>\n",
              "      <td>ham</td>\n",
              "      <td>Go until jurong point, crazy.. Available only ...</td>\n",
              "      <td>0</td>\n",
              "      <td>111</td>\n",
              "    </tr>\n",
              "    <tr>\n",
              "      <th>1</th>\n",
              "      <td>ham</td>\n",
              "      <td>Ok lar... Joking wif u oni...</td>\n",
              "      <td>0</td>\n",
              "      <td>29</td>\n",
              "    </tr>\n",
              "    <tr>\n",
              "      <th>2</th>\n",
              "      <td>spam</td>\n",
              "      <td>Free entry in 2 a wkly comp to win FA Cup fina...</td>\n",
              "      <td>1</td>\n",
              "      <td>155</td>\n",
              "    </tr>\n",
              "    <tr>\n",
              "      <th>3</th>\n",
              "      <td>ham</td>\n",
              "      <td>U dun say so early hor... U c already then say...</td>\n",
              "      <td>0</td>\n",
              "      <td>49</td>\n",
              "    </tr>\n",
              "    <tr>\n",
              "      <th>4</th>\n",
              "      <td>ham</td>\n",
              "      <td>Nah I don't think he goes to usf, he lives aro...</td>\n",
              "      <td>0</td>\n",
              "      <td>61</td>\n",
              "    </tr>\n",
              "  </tbody>\n",
              "</table>\n",
              "</div>"
            ],
            "text/plain": [
              "  label                                            message  label_num  length\n",
              "0   ham  Go until jurong point, crazy.. Available only ...          0     111\n",
              "1   ham                      Ok lar... Joking wif u oni...          0      29\n",
              "2  spam  Free entry in 2 a wkly comp to win FA Cup fina...          1     155\n",
              "3   ham  U dun say so early hor... U c already then say...          0      49\n",
              "4   ham  Nah I don't think he goes to usf, he lives aro...          0      61"
            ]
          },
          "metadata": {
            "tags": []
          },
          "execution_count": 255
        }
      ]
    },
    {
      "cell_type": "markdown",
      "metadata": {
        "id": "3IDX5gPg5FwG"
      },
      "source": [
        "#### 2.6. Histogram graph"
      ]
    },
    {
      "cell_type": "code",
      "metadata": {
        "colab": {
          "base_uri": "https://localhost:8080/",
          "height": 297
        },
        "id": "GZNK3z9n4dX4",
        "outputId": "c8bd62ed-3134-490e-9600-e12d887af17b"
      },
      "source": [
        "plt.figure(figsize=(6, 4))\n",
        "\n",
        "sms[sms.label_num==0].length.plot(bins=35, kind='hist', color='blue', \n",
        "                                       label='Ham messages', alpha=0.6)\n",
        "sms[sms.label_num==1].length.plot(kind='hist', color='red', \n",
        "                                       label='Spam messages', alpha=0.6)\n",
        "plt.legend()\n",
        "plt.xlabel(\"Message Length\")"
      ],
      "execution_count": 256,
      "outputs": [
        {
          "output_type": "execute_result",
          "data": {
            "text/plain": [
              "Text(0.5, 0, 'Message Length')"
            ]
          },
          "metadata": {
            "tags": []
          },
          "execution_count": 256
        },
        {
          "output_type": "display_data",
          "data": {
            "image/png": "[encoded data removed]",
            "text/plain": [
              "<Figure size 432x288 with 1 Axes>"
            ]
          },
          "metadata": {
            "tags": [],
            "needs_background": "light"
          }
        }
      ]
    },
    {
      "cell_type": "markdown",
      "metadata": {
        "id": "ZAvcaW-Z7rZ6"
      },
      "source": [
        "#### 2.7. Preprocessing text \n",
        "    Takes in a string of text, then performs the following:\n",
        "    1. Remove all punctuation\n",
        "    2. Remove all stopwords\n",
        "    3. Returns a list of the cleaned text"
      ]
    },
    {
      "cell_type": "code",
      "metadata": {
        "id": "g17QZ1-H7uCo"
      },
      "source": [
        "def text_process(mess):\n",
        "    STOPWORDS = stopwords.words('english') + ['u', 'ü', 'ur', '4', '2', 'im', 'dont', 'doin', 'ure']\n",
        "    # Check characters to see if they are in punctuation\n",
        "    nopunc = [char for char in mess if char not in string.punctuation]\n",
        "    # Join the characters again to form the string.\n",
        "    nopunc = ''.join(nopunc)\n",
        "    # Now just remove any stopwords\n",
        "    return ' '.join([word for word in nopunc.split() if word.lower() not in STOPWORDS])"
      ],
      "execution_count": 257,
      "outputs": []
    },
    {
      "cell_type": "code",
      "metadata": {
        "colab": {
          "base_uri": "https://localhost:8080/",
          "height": 202
        },
        "id": "AC_kidhR79fH",
        "outputId": "2685824c-cef9-4667-ab01-6c33dd9dce9c"
      },
      "source": [
        "# Apply the above function to preprocess the text.\n",
        "sms['clean_messages'] = sms.message.apply(text_process)\n",
        "sms.head()"
      ],
      "execution_count": 258,
      "outputs": [
        {
          "output_type": "execute_result",
          "data": {
            "text/html": [
              "<div>\n",
              "<style scoped>\n",
              "    .dataframe tbody tr th:only-of-type {\n",
              "        vertical-align: middle;\n",
              "    }\n",
              "\n",
              "    .dataframe tbody tr th {\n",
              "        vertical-align: top;\n",
              "    }\n",
              "\n",
              "    .dataframe thead th {\n",
              "        text-align: right;\n",
              "    }\n",
              "</style>\n",
              "<table border=\"1\" class=\"dataframe\">\n",
              "  <thead>\n",
              "    <tr style=\"text-align: right;\">\n",
              "      <th></th>\n",
              "      <th>label</th>\n",
              "      <th>message</th>\n",
              "      <th>label_num</th>\n",
              "      <th>length</th>\n",
              "      <th>clean_messages</th>\n",
              "    </tr>\n",
              "  </thead>\n",
              "  <tbody>\n",
              "    <tr>\n",
              "      <th>0</th>\n",
              "      <td>ham</td>\n",
              "      <td>Go until jurong point, crazy.. Available only ...</td>\n",
              "      <td>0</td>\n",
              "      <td>111</td>\n",
              "      <td>Go jurong point crazy Available bugis n great ...</td>\n",
              "    </tr>\n",
              "    <tr>\n",
              "      <th>1</th>\n",
              "      <td>ham</td>\n",
              "      <td>Ok lar... Joking wif u oni...</td>\n",
              "      <td>0</td>\n",
              "      <td>29</td>\n",
              "      <td>Ok lar Joking wif oni</td>\n",
              "    </tr>\n",
              "    <tr>\n",
              "      <th>2</th>\n",
              "      <td>spam</td>\n",
              "      <td>Free entry in 2 a wkly comp to win FA Cup fina...</td>\n",
              "      <td>1</td>\n",
              "      <td>155</td>\n",
              "      <td>Free entry wkly comp win FA Cup final tkts 21s...</td>\n",
              "    </tr>\n",
              "    <tr>\n",
              "      <th>3</th>\n",
              "      <td>ham</td>\n",
              "      <td>U dun say so early hor... U c already then say...</td>\n",
              "      <td>0</td>\n",
              "      <td>49</td>\n",
              "      <td>dun say early hor c already say</td>\n",
              "    </tr>\n",
              "    <tr>\n",
              "      <th>4</th>\n",
              "      <td>ham</td>\n",
              "      <td>Nah I don't think he goes to usf, he lives aro...</td>\n",
              "      <td>0</td>\n",
              "      <td>61</td>\n",
              "      <td>Nah think goes usf lives around though</td>\n",
              "    </tr>\n",
              "  </tbody>\n",
              "</table>\n",
              "</div>"
            ],
            "text/plain": [
              "  label  ...                                     clean_messages\n",
              "0   ham  ...  Go jurong point crazy Available bugis n great ...\n",
              "1   ham  ...                              Ok lar Joking wif oni\n",
              "2  spam  ...  Free entry wkly comp win FA Cup final tkts 21s...\n",
              "3   ham  ...                    dun say early hor c already say\n",
              "4   ham  ...             Nah think goes usf lives around though\n",
              "\n",
              "[5 rows x 5 columns]"
            ]
          },
          "metadata": {
            "tags": []
          },
          "execution_count": 258
        }
      ]
    },
    {
      "cell_type": "code",
      "metadata": {
        "colab": {
          "base_uri": "https://localhost:8080/",
          "height": 271
        },
        "id": "VIV7JUTo8zwA",
        "outputId": "896a5cfc-4cda-4345-c63c-d19d49aaa499"
      },
      "source": [
        "# Draw Histogram graph again with clean messages.\n",
        "sms['clean_length']=sms['clean_messages'].apply(len)\n",
        "sms.head()"
      ],
      "execution_count": 259,
      "outputs": [
        {
          "output_type": "execute_result",
          "data": {
            "text/html": [
              "<div>\n",
              "<style scoped>\n",
              "    .dataframe tbody tr th:only-of-type {\n",
              "        vertical-align: middle;\n",
              "    }\n",
              "\n",
              "    .dataframe tbody tr th {\n",
              "        vertical-align: top;\n",
              "    }\n",
              "\n",
              "    .dataframe thead th {\n",
              "        text-align: right;\n",
              "    }\n",
              "</style>\n",
              "<table border=\"1\" class=\"dataframe\">\n",
              "  <thead>\n",
              "    <tr style=\"text-align: right;\">\n",
              "      <th></th>\n",
              "      <th>label</th>\n",
              "      <th>message</th>\n",
              "      <th>label_num</th>\n",
              "      <th>length</th>\n",
              "      <th>clean_messages</th>\n",
              "      <th>clean_length</th>\n",
              "    </tr>\n",
              "  </thead>\n",
              "  <tbody>\n",
              "    <tr>\n",
              "      <th>0</th>\n",
              "      <td>ham</td>\n",
              "      <td>Go until jurong point, crazy.. Available only ...</td>\n",
              "      <td>0</td>\n",
              "      <td>111</td>\n",
              "      <td>Go jurong point crazy Available bugis n great ...</td>\n",
              "      <td>82</td>\n",
              "    </tr>\n",
              "    <tr>\n",
              "      <th>1</th>\n",
              "      <td>ham</td>\n",
              "      <td>Ok lar... Joking wif u oni...</td>\n",
              "      <td>0</td>\n",
              "      <td>29</td>\n",
              "      <td>Ok lar Joking wif oni</td>\n",
              "      <td>21</td>\n",
              "    </tr>\n",
              "    <tr>\n",
              "      <th>2</th>\n",
              "      <td>spam</td>\n",
              "      <td>Free entry in 2 a wkly comp to win FA Cup fina...</td>\n",
              "      <td>1</td>\n",
              "      <td>155</td>\n",
              "      <td>Free entry wkly comp win FA Cup final tkts 21s...</td>\n",
              "      <td>133</td>\n",
              "    </tr>\n",
              "    <tr>\n",
              "      <th>3</th>\n",
              "      <td>ham</td>\n",
              "      <td>U dun say so early hor... U c already then say...</td>\n",
              "      <td>0</td>\n",
              "      <td>49</td>\n",
              "      <td>dun say early hor c already say</td>\n",
              "      <td>31</td>\n",
              "    </tr>\n",
              "    <tr>\n",
              "      <th>4</th>\n",
              "      <td>ham</td>\n",
              "      <td>Nah I don't think he goes to usf, he lives aro...</td>\n",
              "      <td>0</td>\n",
              "      <td>61</td>\n",
              "      <td>Nah think goes usf lives around though</td>\n",
              "      <td>38</td>\n",
              "    </tr>\n",
              "  </tbody>\n",
              "</table>\n",
              "</div>"
            ],
            "text/plain": [
              "  label  ... clean_length\n",
              "0   ham  ...           82\n",
              "1   ham  ...           21\n",
              "2  spam  ...          133\n",
              "3   ham  ...           31\n",
              "4   ham  ...           38\n",
              "\n",
              "[5 rows x 6 columns]"
            ]
          },
          "metadata": {
            "tags": []
          },
          "execution_count": 259
        }
      ]
    },
    {
      "cell_type": "code",
      "metadata": {
        "colab": {
          "base_uri": "https://localhost:8080/",
          "height": 297
        },
        "id": "zw7qPaLr8rjG",
        "outputId": "e7c82bb0-08aa-4d3c-d3f9-5019e88332a4"
      },
      "source": [
        "plt.figure(figsize=(6, 4))\n",
        "\n",
        "sms[sms.label_num==0].clean_length.plot(bins=35, kind='hist', color='blue', \n",
        "                                       label='Ham messages', alpha=0.6)\n",
        "sms[sms.label_num==1].clean_length.plot(kind='hist', color='red', \n",
        "                                       label='Spam messages', alpha=0.6)\n",
        "plt.legend()\n",
        "plt.xlabel(\"Message Length\")"
      ],
      "execution_count": 260,
      "outputs": [
        {
          "output_type": "execute_result",
          "data": {
            "text/plain": [
              "Text(0.5, 0, 'Message Length')"
            ]
          },
          "metadata": {
            "tags": []
          },
          "execution_count": 260
        },
        {
          "output_type": "display_data",
          "data": {
            "image/png": "[encoded data removed]",
            "text/plain": [
              "<Figure size 432x288 with 1 Axes>"
            ]
          },
          "metadata": {
            "tags": [],
            "needs_background": "light"
          }
        }
      ]
    },
    {
      "cell_type": "code",
      "metadata": {
        "colab": {
          "base_uri": "https://localhost:8080/"
        },
        "id": "mVa1NEw6TLGt",
        "outputId": "ea17bac4-505e-46de-b68e-de59b11109dd"
      },
      "source": [
        "# split X and y into training and testing sets \n",
        "X_train, X_test, y_train, y_test = train_test_split(sms['clean_messages'], sms['label_num'], random_state=1)\n",
        "print(X_train.shape)\n",
        "print(X_test.shape)\n",
        "print(y_train.shape)\n",
        "print(y_test.shape)"
      ],
      "execution_count": 261,
      "outputs": [
        {
          "output_type": "stream",
          "text": [
            "(4179,)\n",
            "(1393,)\n",
            "(4179,)\n",
            "(1393,)\n"
          ],
          "name": "stdout"
        }
      ]
    },
    {
      "cell_type": "markdown",
      "metadata": {
        "id": "xDFFwb7jJUug"
      },
      "source": [
        "#### 2.8. Feature extraction using TfidfVectorizer"
      ]
    },
    {
      "cell_type": "code",
      "metadata": {
        "id": "liRXVOQhNCXp"
      },
      "source": [
        "vectorizer = TfidfVectorizer()\n",
        "vectorizer.fit(X_train)\n",
        "X_train_TfidfVectorizer = vectorizer.transform(X_train)\n",
        "X_train_TfidfVectorizer = vectorizer.fit_transform(X_train)\n",
        "X_test_TfidfVectorizer = vectorizer.transform(X_test)"
      ],
      "execution_count": 262,
      "outputs": []
    },
    {
      "cell_type": "markdown",
      "metadata": {
        "id": "p7bfWEj6JVSc"
      },
      "source": [
        "#### 2.9. Feature extraction using HashingVectorizer"
      ]
    },
    {
      "cell_type": "code",
      "metadata": {
        "id": "XnBPYCnh3Eqa"
      },
      "source": [
        "vectorizer = HashingVectorizer()\n",
        "vectorizer.fit(X_train)\n",
        "X_train_HashingVectorizer = vectorizer.transform(X_train)\n",
        "X_train_HashingVectorizer = vectorizer.fit_transform(X_train)\n",
        "X_test_HashingVectorizer = vectorizer.transform(X_test)"
      ],
      "execution_count": 263,
      "outputs": []
    },
    {
      "cell_type": "markdown",
      "metadata": {
        "id": "dfc4G4DUJW8U"
      },
      "source": [
        "#### 2.10. Feature extraction using CountVectorizer"
      ]
    },
    {
      "cell_type": "code",
      "metadata": {
        "id": "ukBO0sneTScu"
      },
      "source": [
        "vectorizer = CountVectorizer()\n",
        "vectorizer.fit(X_train)\n",
        "X_train_CountVectorizer = vectorizer.transform(X_train)\n",
        "X_train_CountVectorizer = vectorizer.fit_transform(X_train)\n",
        "X_test_CountVectorizer = vectorizer.transform(X_test)"
      ],
      "execution_count": 264,
      "outputs": []
    },
    {
      "cell_type": "markdown",
      "metadata": {
        "id": "R0BH_AqcJaqj"
      },
      "source": [
        "#### 2.11. Your contributions\n",
        "\n",
        "    Create clean_msg_2 with your text_process function. \n",
        "    Then, apply feature extraction using TfidfVectorizer, HashingVectorizer and CountVectorizer\n",
        "    Compare the result with the default text_process function. "
      ]
    },
    {
      "cell_type": "code",
      "metadata": {
        "id": "zhsNAi1M-dei"
      },
      "source": [
        "# remove English stop words\n",
        "vect = CountVectorizer(stop_words='english')\n",
        "# include 1-grams and 2-grams\n",
        "vect = CountVectorizer(ngram_range=(1, 2))\n",
        "# ignore terms that appear in more than 50% of the documents\n",
        "vect = CountVectorizer(max_df=0.5)\n",
        "# only keep terms that appear in at least 2 documents\n",
        "vect = CountVectorizer(min_df=2)"
      ],
      "execution_count": 265,
      "outputs": []
    },
    {
      "cell_type": "code",
      "metadata": {
        "id": "xsJbp93kYUFH"
      },
      "source": [
        "from sklearn.feature_extraction.text import CountVectorizer\n",
        "# instantiate the vectorizer\n",
        "vect = CountVectorizer()\n",
        "vect.fit(X_train)\n",
        "# learn training data vocabulary, then use it to create a document-term matrix\n",
        "X_train_CountVectorizer = vect.transform(X_train)\n",
        "# equivalently: combine fit and transform into a single step\n",
        "X_train_CountVectorizer = vect.fit_transform(X_train)\n",
        "# examine the document-term matrix\n",
        "# transform testing data (using fitted vocabulary) into a document-term matrix\n",
        "X_test_CountVectorizer = vect.transform(X_test)"
      ],
      "execution_count": 266,
      "outputs": []
    },
    {
      "cell_type": "code",
      "metadata": {
        "colab": {
          "base_uri": "https://localhost:8080/"
        },
        "id": "0x4x8ru5bcfE",
        "outputId": "b2d7dc33-cb4d-4862-a328-737393f2ff55"
      },
      "source": [
        "from sklearn.feature_extraction.text import TfidfTransformer\n",
        "tfidf_transformer = TfidfTransformer()\n",
        "tfidf_transformer.fit(X_test_CountVectorizer)\n",
        "tfidf_transformer.transform(X_test_CountVectorizer)"
      ],
      "execution_count": 267,
      "outputs": [
        {
          "output_type": "execute_result",
          "data": {
            "text/plain": [
              "<1393x7996 sparse matrix of type '<class 'numpy.float64'>'\n",
              "\twith 9971 stored elements in Compressed Sparse Row format>"
            ]
          },
          "metadata": {
            "tags": []
          },
          "execution_count": 267
        }
      ]
    },
    {
      "cell_type": "code",
      "metadata": {
        "colab": {
          "base_uri": "https://localhost:8080/",
          "height": 306
        },
        "id": "fmx6Yc_4W4ay",
        "outputId": "b272cbca-47bf-473d-8de3-306d21df1733"
      },
      "source": [
        "# Apply the above function to preprocess the text.\n",
        "sms['clean_msg_2'] = sms.message.apply(text_process)\n",
        "sms.head()"
      ],
      "execution_count": 268,
      "outputs": [
        {
          "output_type": "execute_result",
          "data": {
            "text/html": [
              "<div>\n",
              "<style scoped>\n",
              "    .dataframe tbody tr th:only-of-type {\n",
              "        vertical-align: middle;\n",
              "    }\n",
              "\n",
              "    .dataframe tbody tr th {\n",
              "        vertical-align: top;\n",
              "    }\n",
              "\n",
              "    .dataframe thead th {\n",
              "        text-align: right;\n",
              "    }\n",
              "</style>\n",
              "<table border=\"1\" class=\"dataframe\">\n",
              "  <thead>\n",
              "    <tr style=\"text-align: right;\">\n",
              "      <th></th>\n",
              "      <th>label</th>\n",
              "      <th>message</th>\n",
              "      <th>label_num</th>\n",
              "      <th>length</th>\n",
              "      <th>clean_messages</th>\n",
              "      <th>clean_length</th>\n",
              "      <th>clean_msg_2</th>\n",
              "    </tr>\n",
              "  </thead>\n",
              "  <tbody>\n",
              "    <tr>\n",
              "      <th>0</th>\n",
              "      <td>ham</td>\n",
              "      <td>Go until jurong point, crazy.. Available only ...</td>\n",
              "      <td>0</td>\n",
              "      <td>111</td>\n",
              "      <td>Go jurong point crazy Available bugis n great ...</td>\n",
              "      <td>82</td>\n",
              "      <td>Go jurong point crazy Available bugis n great ...</td>\n",
              "    </tr>\n",
              "    <tr>\n",
              "      <th>1</th>\n",
              "      <td>ham</td>\n",
              "      <td>Ok lar... Joking wif u oni...</td>\n",
              "      <td>0</td>\n",
              "      <td>29</td>\n",
              "      <td>Ok lar Joking wif oni</td>\n",
              "      <td>21</td>\n",
              "      <td>Ok lar Joking wif oni</td>\n",
              "    </tr>\n",
              "    <tr>\n",
              "      <th>2</th>\n",
              "      <td>spam</td>\n",
              "      <td>Free entry in 2 a wkly comp to win FA Cup fina...</td>\n",
              "      <td>1</td>\n",
              "      <td>155</td>\n",
              "      <td>Free entry wkly comp win FA Cup final tkts 21s...</td>\n",
              "      <td>133</td>\n",
              "      <td>Free entry wkly comp win FA Cup final tkts 21s...</td>\n",
              "    </tr>\n",
              "    <tr>\n",
              "      <th>3</th>\n",
              "      <td>ham</td>\n",
              "      <td>U dun say so early hor... U c already then say...</td>\n",
              "      <td>0</td>\n",
              "      <td>49</td>\n",
              "      <td>dun say early hor c already say</td>\n",
              "      <td>31</td>\n",
              "      <td>dun say early hor c already say</td>\n",
              "    </tr>\n",
              "    <tr>\n",
              "      <th>4</th>\n",
              "      <td>ham</td>\n",
              "      <td>Nah I don't think he goes to usf, he lives aro...</td>\n",
              "      <td>0</td>\n",
              "      <td>61</td>\n",
              "      <td>Nah think goes usf lives around though</td>\n",
              "      <td>38</td>\n",
              "      <td>Nah think goes usf lives around though</td>\n",
              "    </tr>\n",
              "  </tbody>\n",
              "</table>\n",
              "</div>"
            ],
            "text/plain": [
              "  label  ...                                        clean_msg_2\n",
              "0   ham  ...  Go jurong point crazy Available bugis n great ...\n",
              "1   ham  ...                              Ok lar Joking wif oni\n",
              "2  spam  ...  Free entry wkly comp win FA Cup final tkts 21s...\n",
              "3   ham  ...                    dun say early hor c already say\n",
              "4   ham  ...             Nah think goes usf lives around though\n",
              "\n",
              "[5 rows x 7 columns]"
            ]
          },
          "metadata": {
            "tags": []
          },
          "execution_count": 268
        }
      ]
    },
    {
      "cell_type": "code",
      "metadata": {
        "id": "btfHFL9DXNdK"
      },
      "source": [
        "# split X and y into training and testing sets \n",
        "X_train_clean_msg_2, X_test_clean_msg_2, y_train_clean_msg_2, y_test_clean_msg_2 = train_test_split(sms['clean_msg_2'], sms['label_num'], random_state=1)"
      ],
      "execution_count": 269,
      "outputs": []
    },
    {
      "cell_type": "code",
      "metadata": {
        "colab": {
          "base_uri": "https://localhost:8080/"
        },
        "id": "dayR8lUnXQ7p",
        "outputId": "fc403b6c-4770-49e3-9b9a-41c846ae376c"
      },
      "source": [
        "model = tree.DecisionTreeClassifier()\n",
        "%time model.fit(X_train_CountVectorizer, y_train_clean_msg_2)\n",
        "# make class predictions for X_test_dtm\n",
        "y_pred_class = model.predict(X_test_CountVectorizer)"
      ],
      "execution_count": 270,
      "outputs": [
        {
          "output_type": "stream",
          "text": [
            "CPU times: user 132 ms, sys: 2.97 ms, total: 135 ms\n",
            "Wall time: 140 ms\n"
          ],
          "name": "stdout"
        }
      ]
    },
    {
      "cell_type": "code",
      "metadata": {
        "colab": {
          "base_uri": "https://localhost:8080/"
        },
        "id": "hGFQLj33rGHx",
        "outputId": "2bc86ba0-adb3-458e-e74d-1cc5da3c7096"
      },
      "source": [
        "# calculate accuracy of class predictions\n",
        "from sklearn import metrics\n",
        "metrics.accuracy_score(y_test, y_pred_class)"
      ],
      "execution_count": 271,
      "outputs": [
        {
          "output_type": "execute_result",
          "data": {
            "text/plain": [
              "0.9612347451543432"
            ]
          },
          "metadata": {
            "tags": []
          },
          "execution_count": 271
        }
      ]
    },
    {
      "cell_type": "markdown",
      "metadata": {
        "id": "2kgeGtZwDKuG"
      },
      "source": [
        "# 3. Spam detection\n",
        "\n",
        "\n"
      ]
    },
    {
      "cell_type": "code",
      "metadata": {
        "id": "QRfMZkykDPCN"
      },
      "source": [
        "y = sms.label\n",
        "\n",
        "# only using the decision tree classifier with default setting for training and predicting. \n",
        "# In other words, make no changes to this section.\n",
        "\n",
        "model = tree.DecisionTreeClassifier()"
      ],
      "execution_count": 272,
      "outputs": []
    },
    {
      "cell_type": "markdown",
      "metadata": {
        "id": "J0o0wJI0DaN6"
      },
      "source": [
        "#### 3.1. Using TF-IDF Vectorizer\n",
        "\n",
        "    Requirements:\n",
        "    1. Using 5-fold for spliting the dataset \n",
        "    2. Add accuracy of each fold to acc_tv\n",
        "    3. Caculate and print the proccessing time\n",
        "    4. Print mean of accuracy"
      ]
    },
    {
      "cell_type": "code",
      "metadata": {
        "colab": {
          "base_uri": "https://localhost:8080/"
        },
        "id": "vMro4p1DDhCN",
        "outputId": "937fcc86-892a-4e94-9a1d-4a1e4e388ccf"
      },
      "source": [
        "acc_tv=[]\n",
        "cv = KFold(n_splits=5, random_state=1, shuffle=True)\n",
        "%time acc_tv = cross_val_score(model, X_train_TfidfVectorizer, y_train, scoring='accuracy', cv=cv, n_jobs=-1)\n",
        "print(\"Accurancy\",sqrt(mean(absolute(acc_tv))))"
      ],
      "execution_count": 273,
      "outputs": [
        {
          "output_type": "stream",
          "text": [
            "CPU times: user 29.5 ms, sys: 8.87 ms, total: 38.3 ms\n",
            "Wall time: 739 ms\n",
            "Accurancy 0.9806704165035426\n"
          ],
          "name": "stdout"
        }
      ]
    },
    {
      "cell_type": "markdown",
      "metadata": {
        "id": "qN5FaAHLDk5S"
      },
      "source": [
        "#### 3.2. Using Hashing Vectorizer\n",
        "    Requirements:\n",
        "    1. Using 5-fold for spliting the dataset \n",
        "    2. Add accuracy of each fold to acc_hv\n",
        "    3. Caculate and print the proccessing time\n",
        "    4. Print mean of accuracy"
      ]
    },
    {
      "cell_type": "code",
      "metadata": {
        "colab": {
          "base_uri": "https://localhost:8080/"
        },
        "id": "mE02Z-r1Dpyc",
        "outputId": "4df86a0f-3c22-40d6-9448-21651d37580d"
      },
      "source": [
        "acc_hv = []\n",
        "cv = KFold(n_splits=5, random_state=1, shuffle=True)\n",
        "%time acc_hv = cross_val_score(model, X_train_HashingVectorizer, y_train, scoring='accuracy', cv=cv, n_jobs=-1)\n",
        "print(\"Accurancy\",sqrt(mean(absolute(acc_hv))))"
      ],
      "execution_count": 274,
      "outputs": [
        {
          "output_type": "stream",
          "text": [
            "CPU times: user 108 ms, sys: 5.6 ms, total: 113 ms\n",
            "Wall time: 15.8 s\n",
            "Accurancy 0.9774940698642497\n"
          ],
          "name": "stdout"
        }
      ]
    },
    {
      "cell_type": "markdown",
      "metadata": {
        "id": "jD9QI5EODqxT"
      },
      "source": [
        "#### 3.3. Using Count Vectorizer\n",
        "\n",
        "    Requirements:\n",
        "    1. Using 5-fold for spliting the dataset \n",
        "    2. Add accuracy of each fold to acc_cv\n",
        "    3. Caculate and print the proccessing time\n",
        "    4. Print mean of accuracy"
      ]
    },
    {
      "cell_type": "code",
      "metadata": {
        "colab": {
          "base_uri": "https://localhost:8080/"
        },
        "id": "73mt8NtDDwYA",
        "outputId": "18dccf7f-a3d2-4c73-c53d-c122f8874b37"
      },
      "source": [
        "acc_cv=[]\n",
        "cv = KFold(n_splits=5, random_state=1, shuffle=True)\n",
        "%time acc_cv = cross_val_score(model, X_train_CountVectorizer, y_train, scoring='accuracy', cv=cv, n_jobs=-1)\n",
        "print(\"Accurancy\",sqrt(mean(absolute(acc_cv))))"
      ],
      "execution_count": 275,
      "outputs": [
        {
          "output_type": "stream",
          "text": [
            "CPU times: user 32.5 ms, sys: 1.13 ms, total: 33.6 ms\n",
            "Wall time: 540 ms\n",
            "Accurancy 0.9809150662755509\n"
          ],
          "name": "stdout"
        }
      ]
    },
    {
      "cell_type": "markdown",
      "metadata": {
        "id": "SXCYnQ1dDxmV"
      },
      "source": [
        "#### 3.4. Ploting Accuracies in 5-Folds"
      ]
    },
    {
      "cell_type": "code",
      "metadata": {
        "colab": {
          "base_uri": "https://localhost:8080/",
          "height": 295
        },
        "id": "wuuyMjPWD0sx",
        "outputId": "1c0bf296-2f9d-4301-c57d-b5cd518640fa"
      },
      "source": [
        "plt.figure(figsize=(6, 4))\n",
        "\n",
        "index=np.arange(5)\n",
        "\n",
        "width=0.20\n",
        "D=['Fold-1','Fold-2','Fold-3','Fold-4','Fold-5']\n",
        "\n",
        "plt.bar(index,acc_tv,width,color='blue',label='TF-IDF Vectorizer')\n",
        "plt.bar(index+width,acc_hv,width,color='green',label='Hashing Vectorizer')\n",
        "plt.bar(index+2*width,acc_cv,width,color='red',label='Count Vectorizer')\n",
        "\n",
        "plt.title(\"Accuracy\")\n",
        "plt.xlabel(\"Fold\")\n",
        "plt.ylabel(\"Accuracy\")\n",
        "\n",
        "plt.xticks(index+width/2,D)\n",
        "\n",
        "plt.ylim(0.83)\n",
        "\n",
        "plt.legend(loc='best')\n",
        "plt.show()"
      ],
      "execution_count": 276,
      "outputs": [
        {
          "output_type": "display_data",
          "data": {
            "image/png": "[encoded data removed]",
            "text/plain": [
              "<Figure size 432x288 with 1 Axes>"
            ]
          },
          "metadata": {
            "tags": [],
            "needs_background": "light"
          }
        }
      ]
    },
    {
      "cell_type": "markdown",
      "metadata": {
        "id": "qfI7J1WnwQ06"
      },
      "source": [
        "\n",
        "# 4.Predict whether a sentence is spam or ham\n",
        "\n",
        "\n",
        "\n"
      ]
    },
    {
      "cell_type": "markdown",
      "metadata": {
        "id": "Q-kx0hfcy2v-"
      },
      "source": [
        "## 4.1 Stopwords"
      ]
    },
    {
      "cell_type": "code",
      "metadata": {
        "id": "BdTP0t9SwPIo"
      },
      "source": [
        "lemmatizer = WordNetLemmatizer()\n",
        "stopwords = set(stopwords.words('english'))"
      ],
      "execution_count": 277,
      "outputs": []
    },
    {
      "cell_type": "markdown",
      "metadata": {
        "id": "YciCfBdoynb_"
      },
      "source": [
        "##4.2 Converting messages to lowercase"
      ]
    },
    {
      "cell_type": "code",
      "metadata": {
        "id": "chAk29htyl2A"
      },
      "source": [
        "def review_messages(msg):\n",
        "    msg = msg.lower()\n",
        "    return msg"
      ],
      "execution_count": 278,
      "outputs": []
    },
    {
      "cell_type": "markdown",
      "metadata": {
        "id": "rdKvHMUXzBd3"
      },
      "source": [
        "## 4.3 Preprocessing text"
      ]
    },
    {
      "cell_type": "code",
      "metadata": {
        "id": "dC8EsL5ZzLli"
      },
      "source": [
        "def alternative_review_messages(msg):\n",
        "    # converting messages to lowercase\n",
        "    msg = msg.lower()\n",
        "\n",
        "    # uses a lemmatizer (wnpos is the parts of speech tag)\n",
        "    # unfortunately wordnet and nltk uses a different set of terminology for pos tags\n",
        "    # first, we must translate the nltk pos to wordnet\n",
        "    nltk_pos = [tag[1] for tag in pos_tag(word_tokenize(msg))]\n",
        "    msg = [tag[0] for tag in pos_tag(word_tokenize(msg))]\n",
        "    wnpos = ['a' if tag[0] == 'J' else tag[0].lower() if tag[0] in ['N', 'R', 'V'] else 'n' for tag in nltk_pos]\n",
        "    msg = \" \".join([lemmatizer.lemmatize(word, wnpos[i]) for i, word in enumerate(msg)])\n",
        "\n",
        "    # removing stopwords \n",
        "    msg = [word for word in msg.split() if word not in stopwords]\n",
        "\n",
        "    return msg"
      ],
      "execution_count": 279,
      "outputs": []
    },
    {
      "cell_type": "code",
      "metadata": {
        "id": "VBeCRK8_zSWH"
      },
      "source": [
        "# Processing text messages\n",
        "sms['clean_messages'] = sms['clean_messages'].apply(review_messages)\n",
        "\n",
        "# train test split \n",
        "X_train, X_test, y_train, y_test = train_test_split(sms['clean_messages'], sms['label'], test_size = 0.1, random_state = 1)"
      ],
      "execution_count": 280,
      "outputs": []
    },
    {
      "cell_type": "code",
      "metadata": {
        "id": "0BSGV4vnzUFy"
      },
      "source": [
        "# training vectorizer\n",
        "vectorizer = TfidfVectorizer()\n",
        "X_train = vectorizer.fit_transform(X_train)"
      ],
      "execution_count": 281,
      "outputs": []
    },
    {
      "cell_type": "code",
      "metadata": {
        "colab": {
          "base_uri": "https://localhost:8080/"
        },
        "id": "0z7iQAXWzVhq",
        "outputId": "1eb03751-a410-488d-8df8-2b9394d92f0e"
      },
      "source": [
        "# training the classifier \n",
        "svm = svm.SVC(C=1000)\n",
        "svm.fit(X_train, y_train)"
      ],
      "execution_count": 282,
      "outputs": [
        {
          "output_type": "execute_result",
          "data": {
            "text/plain": [
              "SVC(C=1000, break_ties=False, cache_size=200, class_weight=None, coef0=0.0,\n",
              "    decision_function_shape='ovr', degree=3, gamma='scale', kernel='rbf',\n",
              "    max_iter=-1, probability=False, random_state=None, shrinking=True,\n",
              "    tol=0.001, verbose=False)"
            ]
          },
          "metadata": {
            "tags": []
          },
          "execution_count": 282
        }
      ]
    },
    {
      "cell_type": "code",
      "metadata": {
        "colab": {
          "base_uri": "https://localhost:8080/"
        },
        "id": "eP7Z-6KnzWso",
        "outputId": "20e4bf45-1c1b-410e-80c2-ecd4171b951f"
      },
      "source": [
        "# testing against testing set \n",
        "X_test = vectorizer.transform(X_test)\n",
        "y_pred = svm.predict(X_test) \n",
        "#print(confusion_matrix(y_test, y_pred))"
      ],
      "execution_count": 283,
      "outputs": [
        {
          "output_type": "stream",
          "text": [
            "[[490   0]\n",
            " [  6  62]]\n"
          ],
          "name": "stdout"
        }
      ]
    },
    {
      "cell_type": "code",
      "metadata": {
        "colab": {
          "base_uri": "https://localhost:8080/",
          "height": 35
        },
        "id": "jKzumeOOk-Pk",
        "outputId": "8f62a6dd-a42d-4322-bd05-6618b69186e6"
      },
      "source": [
        "# test against new messages \n",
        "def pred(msg):\n",
        "    msg = vectorizer.transform([msg])\n",
        "    prediction = svm.predict(msg)\n",
        "    return prediction[0]\n",
        "\n",
        "pred(\"Go jurong point crazy Available bugis n great ...\")"
      ],
      "execution_count": 284,
      "outputs": [
        {
          "output_type": "execute_result",
          "data": {
            "application/vnd.google.colaboratory.intrinsic+json": {
              "type": "string"
            },
            "text/plain": [
              "'ham'"
            ]
          },
          "metadata": {
            "tags": []
          },
          "execution_count": 284
        }
      ]
    }
  ]
}